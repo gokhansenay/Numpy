{
 "cells": [
  {
   "cell_type": "markdown",
   "id": "09ca2cd6-441d-4031-b8f3-58223333c642",
   "metadata": {},
   "source": [
    "# Veri Analizi (Data Analysis) Nedir ?"
   ]
  },
  {
   "cell_type": "markdown",
   "id": "eff12a10-f048-4dcd-a0a0-305f43569226",
   "metadata": {},
   "source": [
    "Veriyi ; \n",
    "\n",
    "\t     >> İnceleme (Inspecting)\n",
    "\t     >> Temizleme (Cleansing)\n",
    "\t     >> Dönüştürme (Transforming)\n",
    "\t     >> Modelleme (Modeling)\n",
    "         \n",
    "        sürecine(işlemler dizisine)  *Veri Analizi (Data Analysis)* denilir."
   ]
  },
  {
   "cell_type": "markdown",
   "id": "47987da6-71b6-4db3-98ee-ac271990baa3",
   "metadata": {},
   "source": [
    "Veri Analizi ;\n",
    "\t\n",
    "\t-Kullanışlı Bilgi Keşfetme\n",
    "\t-Veriden Sonuç Çıkarma\n",
    "\t-Karar Vermeyi Destekleme\n",
    "    \n",
    "\n",
    "amaçlarıyla yapılır."
   ]
  },
  {
   "cell_type": "markdown",
   "id": "4cbb8ade-6c98-4c2b-a2d7-3d148a136d89",
   "metadata": {},
   "source": [
    "****\n",
    "# NumPy Nedir ?"
   ]
  },
  {
   "cell_type": "markdown",
   "id": "313a320c-1b23-4b6c-9c16-915a2a72b677",
   "metadata": {},
   "source": [
    "# Python'da Module Import İşlemi "
   ]
  },
  {
   "cell_type": "code",
   "execution_count": 62,
   "id": "f566593d-6f4d-4e00-bcfa-a38c949136b2",
   "metadata": {},
   "outputs": [
    {
     "data": {
      "text/plain": [
       "'C:\\\\Users\\\\yaras\\\\NumPy_Ders'"
      ]
     },
     "execution_count": 62,
     "metadata": {},
     "output_type": "execute_result"
    }
   ],
   "source": [
    "import os    # os module'unu import et\n",
    "os.getcwd()  # os module'une ait getcwd() fonksiyonunu çağır.\n",
    "             # Eğer os module'unu import etmeseydik bu module e ait fonksiyonu kullanamazdık."
   ]
  },
  {
   "cell_type": "markdown",
   "id": "6406aa31-bad1-4efd-aa3d-7962fd4aee73",
   "metadata": {},
   "source": [
    "**getcwd() mevcut olarak çalıştığımız dosya konumunu bize getiren fonksiyondur, \n",
    "sistemde şuanda bulunduğumuz dosya konumunu bize getirdi.**"
   ]
  },
  {
   "cell_type": "code",
   "execution_count": 64,
   "id": "3e265585-a92e-4bd3-a738-27f017619110",
   "metadata": {},
   "outputs": [
    {
     "data": {
      "text/plain": [
       "'win32'"
      ]
     },
     "execution_count": 64,
     "metadata": {},
     "output_type": "execute_result"
    }
   ],
   "source": [
    "import sys     # sys module'unu çağırdık\n",
    "sys.platform   # sys module'une ait bir attribute'ü-- \"platform\" attribute'unu kullandık.\n",
    "               # Dikkat edin bu sefer bir fonksiyon değil bir attribute-yani özellik kullandık."
   ]
  },
  {
   "cell_type": "code",
   "execution_count": 65,
   "id": "8627b165-eaa7-426a-ba41-02b9e7b476b2",
   "metadata": {},
   "outputs": [
    {
     "name": "stdout",
     "output_type": "stream",
     "text": [
      "3.10.8 (tags/v3.10.8:aaaf517, Oct 11 2022, 16:50:30) [MSC v.1933 64 bit (AMD64)]\n"
     ]
    }
   ],
   "source": [
    "print(sys.version)"
   ]
  },
  {
   "cell_type": "code",
   "execution_count": 66,
   "id": "ef953871-61cd-478b-89aa-b06bfd0b35c7",
   "metadata": {},
   "outputs": [
    {
     "data": {
      "text/plain": [
       "datetime.date(2022, 11, 12)"
      ]
     },
     "execution_count": 66,
     "metadata": {},
     "output_type": "execute_result"
    }
   ],
   "source": [
    "import datetime\n",
    "datetime.date.today()"
   ]
  },
  {
   "cell_type": "code",
   "execution_count": 67,
   "id": "d90cabfc-f69b-401c-bda0-e848fcf4764f",
   "metadata": {},
   "outputs": [
    {
     "data": {
      "text/plain": [
       "'2022-11-12'"
      ]
     },
     "execution_count": 67,
     "metadata": {},
     "output_type": "execute_result"
    }
   ],
   "source": [
    "datetime.date.isoformat(datetime.date.today())    # Bugünün tarihini bir string olarak alıyoruz."
   ]
  },
  {
   "cell_type": "code",
   "execution_count": 68,
   "id": "6eb498bb-668c-4057-b7f4-f4f25f8b94b8",
   "metadata": {},
   "outputs": [
    {
     "data": {
      "text/plain": [
       "12"
      ]
     },
     "execution_count": 68,
     "metadata": {},
     "output_type": "execute_result"
    }
   ],
   "source": [
    "datetime.date.today().day"
   ]
  },
  {
   "cell_type": "code",
   "execution_count": 69,
   "id": "be272e48-69e7-4dde-a194-27ac5a36ec5d",
   "metadata": {},
   "outputs": [
    {
     "data": {
      "text/plain": [
       "11"
      ]
     },
     "execution_count": 69,
     "metadata": {},
     "output_type": "execute_result"
    }
   ],
   "source": [
    "datetime.date.today().month"
   ]
  },
  {
   "cell_type": "code",
   "execution_count": 70,
   "id": "b39dd640-9571-4035-8d2c-7a99e5531b12",
   "metadata": {},
   "outputs": [
    {
     "data": {
      "text/plain": [
       "2022"
      ]
     },
     "execution_count": 70,
     "metadata": {},
     "output_type": "execute_result"
    }
   ],
   "source": [
    "datetime.date.today().year"
   ]
  },
  {
   "cell_type": "markdown",
   "id": "06e08142-d9f3-4b59-9351-83f945c48c18",
   "metadata": {},
   "source": [
    "****"
   ]
  },
  {
   "cell_type": "code",
   "execution_count": 71,
   "id": "529b8245-b6fc-43c6-b6be-e1f2e167ea0f",
   "metadata": {},
   "outputs": [
    {
     "data": {
      "text/plain": [
       "28"
      ]
     },
     "execution_count": 71,
     "metadata": {},
     "output_type": "execute_result"
    }
   ],
   "source": [
    "import sys\n",
    "\n",
    "x = 5\n",
    "\n",
    "sys.getsizeof(x) # getsizeof() ; Python'da bir object'in bellekte tuttuğu alanı byte cinsinden veren fonksiyondur.\n"
   ]
  },
  {
   "cell_type": "markdown",
   "id": "dfc0f52f-7f26-419f-9bb4-68214cbeb7d5",
   "metadata": {},
   "source": [
    "# NumPy Module'unu Import Ediyoruz"
   ]
  },
  {
   "cell_type": "markdown",
   "id": "83c28e9c-9491-4df6-8a50-d8c808f06063",
   "metadata": {},
   "source": [
    "**NumPy Python Standard Library içerisinde bulunan bir module değildir.**"
   ]
  },
  {
   "cell_type": "markdown",
   "id": "0d3b89c2-d923-494e-834d-43249de67ab6",
   "metadata": {},
   "source": [
    "**-->NumPy module'unu import etmek için önce ;\n",
    "     NumPy module'unu Python pip aracı ile install etmemiz gerekiyor.\n",
    "     \"pip\" aracı bize Standard Library'de bulunmayan module'leri/package'leri dışarıdan install etmeyi sağlar.**\n",
    "    "
   ]
  },
  {
   "cell_type": "markdown",
   "id": "924c90a6-abe3-485e-9d42-fad7ced8ec2c",
   "metadata": {},
   "source": [
    "**--> Önce NumPy'yi \"pip\" ile install edelim :**"
   ]
  },
  {
   "cell_type": "markdown",
   "id": "9bf940d3-c529-420d-ad06-49902ae888a8",
   "metadata": {},
   "source": [
    "Öncelikle Terminal Window(Komut Penceresini) açıyoruz. Windows'ta \"cmd\" olarak biliniyor.\n",
    "Daha sonra Terminalde ;\n",
    "    \n",
    "**pip install numpy**\n",
    "    \n",
    "komutunu girerek NumPy yi sistemimize yüklüyoruz. \n",
    "    \n",
    "Artık NumPy module'unu import edebiliriz.\n"
   ]
  },
  {
   "cell_type": "markdown",
   "id": "882fa795-cbcf-428a-8793-61f1ef32dfe5",
   "metadata": {},
   "source": [
    "**NumPy Import Adımı :**"
   ]
  },
  {
   "cell_type": "code",
   "execution_count": null,
   "id": "2176d30c-e8bb-43d5-b151-cc3449bd01fe",
   "metadata": {},
   "outputs": [],
   "source": [
    "import numpy as np"
   ]
  },
  {
   "cell_type": "markdown",
   "id": "ac412043-f638-410e-b399-12bd84dffc35",
   "metadata": {},
   "source": [
    "**|--> Import ederken NumPy module'unu ismiyle çok sık çağıracağımız için \n",
    "\"as np\" şeklinde ismini np olarak yeniden düzenliyoruz. \n",
    "Böylece NumPy'yi çağırırken \"np\" yazarak kolayca çağırabiliriz.** "
   ]
  },
  {
   "cell_type": "markdown",
   "id": "e59a2a56-d8ed-4020-89b5-ae524b80614d",
   "metadata": {},
   "source": [
    "# NumPy ile Array Oluşturmak"
   ]
  },
  {
   "cell_type": "code",
   "execution_count": 73,
   "id": "cc8eb0f9-d197-4632-a977-f6fcf8864c65",
   "metadata": {},
   "outputs": [
    {
     "data": {
      "text/plain": [
       "array([1, 2, 3, 4])"
      ]
     },
     "execution_count": 73,
     "metadata": {},
     "output_type": "execute_result"
    }
   ],
   "source": [
    "import numpy as np\n",
    "\n",
    "np.array([1, 2, 3, 4])"
   ]
  },
  {
   "cell_type": "markdown",
   "id": "cf952abf-f69a-4b40-a7b3-a11a0c72acef",
   "metadata": {},
   "source": [
    "**Oluşturduğumuz array'i bir variable'a assign ederek (atamasını yaparak) kullanabiliriz:**"
   ]
  },
  {
   "cell_type": "code",
   "execution_count": 74,
   "id": "cdfa56e5-6a12-4be5-9e88-e27fb830d52d",
   "metadata": {},
   "outputs": [
    {
     "name": "stdout",
     "output_type": "stream",
     "text": [
      "[1 2 3 4]\n"
     ]
    }
   ],
   "source": [
    "a = np.array([1, 2, 3, 4])\n",
    "print(a)"
   ]
  },
  {
   "cell_type": "code",
   "execution_count": 78,
   "id": "05005076-47b2-464d-9ee3-e189ff7c5a7e",
   "metadata": {},
   "outputs": [
    {
     "name": "stdout",
     "output_type": "stream",
     "text": [
      "[0.  0.5 1.  1.5 2. ]\n"
     ]
    }
   ],
   "source": [
    "b = np.array([0, 0.5, 1, 1.5, 2]) # Float tipinde objelerden de array oluşturabiliriz.\n",
    "print(b)"
   ]
  },
  {
   "cell_type": "code",
   "execution_count": null,
   "id": "e8098137-9e83-45b9-abbd-15bc105a6f77",
   "metadata": {},
   "outputs": [],
   "source": []
  },
  {
   "cell_type": "markdown",
   "id": "aa0c83d8-c1f9-4f8b-98e5-ab42b3eb5555",
   "metadata": {
    "tags": []
   },
   "source": [
    "## Creating Array from Lists"
   ]
  },
  {
   "cell_type": "code",
   "execution_count": 184,
   "id": "e7ae51e8-a79e-4808-abd6-fd443848c79c",
   "metadata": {},
   "outputs": [
    {
     "name": "stdout",
     "output_type": "stream",
     "text": [
      "[1 2 3 4 5]\n"
     ]
    }
   ],
   "source": [
    "my_list = [1, 2, 3, 4, 5]  # List oluşturduk\n",
    "\n",
    "arr = np.array(my_list)\n",
    "print(arr)"
   ]
  },
  {
   "cell_type": "markdown",
   "id": "ad4f3470-646d-4cdc-8ffc-f63aac7f04aa",
   "metadata": {},
   "source": [
    "****\n",
    "## asarray( )"
   ]
  },
  {
   "cell_type": "markdown",
   "id": "bf6a23cc-72fe-4a86-868a-50acf528051d",
   "metadata": {},
   "source": [
    "__Parametre olarak bir array_like alır. Yani array benzeri, array'e dönüştürülebilecek  \n",
    "list, tuple vs. bir girdi alır.  \n",
    "Bu girdiyi bir array'e dönüştürür. Geriye bir NumPy array / ndarray döndürür.__"
   ]
  },
  {
   "cell_type": "code",
   "execution_count": 345,
   "id": "4679bf79-f81d-4247-ab4f-d1e2cef2edb4",
   "metadata": {},
   "outputs": [],
   "source": [
    "my_list = [1, 2]\n",
    "my_array = np.asarray(my_list)"
   ]
  },
  {
   "cell_type": "code",
   "execution_count": 346,
   "id": "b14ed7d2-cb7a-4cf2-aefd-48a64a9af81d",
   "metadata": {},
   "outputs": [
    {
     "data": {
      "text/plain": [
       "list"
      ]
     },
     "execution_count": 346,
     "metadata": {},
     "output_type": "execute_result"
    }
   ],
   "source": [
    "type(my_list)"
   ]
  },
  {
   "cell_type": "code",
   "execution_count": 347,
   "id": "4e3f669b-b810-42dd-99e0-9a2a709292c1",
   "metadata": {},
   "outputs": [
    {
     "data": {
      "text/plain": [
       "numpy.ndarray"
      ]
     },
     "execution_count": 347,
     "metadata": {},
     "output_type": "execute_result"
    }
   ],
   "source": [
    "type(my_array)"
   ]
  },
  {
   "cell_type": "markdown",
   "id": "1777084e-b2ce-40dc-b2c3-3f52e71a242a",
   "metadata": {
    "tags": []
   },
   "source": [
    "## arange() ile Array Oluşturma"
   ]
  },
  {
   "cell_type": "code",
   "execution_count": 154,
   "id": "8fd50972-0f90-4945-873c-b13668c95726",
   "metadata": {},
   "outputs": [
    {
     "data": {
      "text/plain": [
       "array([20, 21, 22, 23, 24])"
      ]
     },
     "execution_count": 154,
     "metadata": {},
     "output_type": "execute_result"
    }
   ],
   "source": [
    "a = np.arange(5)\n",
    "a + 20"
   ]
  },
  {
   "cell_type": "code",
   "execution_count": null,
   "id": "dd814193-ee70-4e3d-89d9-29469e21e0cf",
   "metadata": {},
   "outputs": [],
   "source": []
  },
  {
   "cell_type": "markdown",
   "id": "9c7ddd31-80f0-423f-baa8-8a835ad1bec9",
   "metadata": {},
   "source": [
    "****\n",
    "## fromiter( ) ile Array Oluşturma"
   ]
  },
  {
   "cell_type": "markdown",
   "id": "6af55b2f-6a0b-41a4-b35f-5a6488af3107",
   "metadata": {},
   "source": [
    "__Parametre olarak, bir iterasyon objesi ve data-type alır.__"
   ]
  },
  {
   "cell_type": "code",
   "execution_count": 393,
   "id": "a751642e-ce90-4876-82e2-b7861eebe69b",
   "metadata": {},
   "outputs": [
    {
     "name": "stdout",
     "output_type": "stream",
     "text": [
      "[0 1 2 3 4]\n"
     ]
    }
   ],
   "source": [
    "iter_obje = (x for x in range(5))\n",
    "\n",
    "arr = np.fromiter(iter_obje, int)\n",
    "\n",
    "print(arr)\n"
   ]
  },
  {
   "cell_type": "code",
   "execution_count": 394,
   "id": "e3892484-03b7-4c11-8968-075d124ec894",
   "metadata": {},
   "outputs": [
    {
     "name": "stdout",
     "output_type": "stream",
     "text": [
      "[ 0  1  4  9 16]\n"
     ]
    }
   ],
   "source": [
    "\n",
    "iter_obje = (x*x for x in range(5))\n",
    "\n",
    "arr = np.fromiter(iter_obje, int)\n",
    "\n",
    "print(arr)\n"
   ]
  },
  {
   "cell_type": "code",
   "execution_count": 418,
   "id": "63eb1204-9847-44f8-8037-6cd48ba5d25f",
   "metadata": {},
   "outputs": [
    {
     "name": "stdout",
     "output_type": "stream",
     "text": [
      "[[0 0]\n",
      " [1 1]\n",
      " [2 2]\n",
      " [3 3]\n",
      " [4 4]]\n"
     ]
    }
   ],
   "source": [
    "\n",
    "iter_obje = ((x, x) for x in range(5))\n",
    "\n",
    "arr = np.fromiter(iter_obje, dtype=np.dtype((int, 2)) )  \n",
    "# type belirtirken her iki iterasyon elemanı için belirtmeye dikkat ediyoruz. Yoksa hatalı olur.\n",
    "\n",
    "print(arr)\n",
    "                                                         "
   ]
  },
  {
   "cell_type": "code",
   "execution_count": 419,
   "id": "749a28e8-1f76-4bed-9a5b-09ec6df0baa7",
   "metadata": {},
   "outputs": [
    {
     "name": "stdout",
     "output_type": "stream",
     "text": [
      "[[0 1]\n",
      " [1 2]\n",
      " [2 3]\n",
      " [3 4]\n",
      " [4 5]]\n"
     ]
    }
   ],
   "source": [
    "\n",
    "iter_obje = ((x, x+1) for x in range(5))\n",
    "\n",
    "arr = np.fromiter(iter_obje, dtype=np.dtype((int, 2)) )  \n",
    "# type belirtirken her iki iterasyon elemanı için belirtmeye dikkat ediyoruz. Yoksa hatalı olur.\n",
    "\n",
    "print(arr)\n",
    "                                                         "
   ]
  },
  {
   "cell_type": "code",
   "execution_count": 420,
   "id": "5506f256-936d-452a-97d9-12f388986dee",
   "metadata": {},
   "outputs": [
    {
     "name": "stdout",
     "output_type": "stream",
     "text": [
      "[[0 1 2]\n",
      " [1 2 3]\n",
      " [2 3 4]\n",
      " [3 4 5]\n",
      " [4 5 6]]\n"
     ]
    }
   ],
   "source": [
    "\n",
    "iter_obje = ((x, x+1, x+2) for x in range(5))\n",
    "\n",
    "arr = np.fromiter(iter_obje, dtype=np.dtype((int, 3)) )  \n",
    "# type belirtirken her iki iterasyon elemanı için belirtmeye dikkat ediyoruz. Yoksa hatalı olur.\n",
    "\n",
    "print(arr)\n",
    "                                                         "
   ]
  },
  {
   "cell_type": "markdown",
   "id": "a96674db-3962-4306-aec8-51d015c6ebcf",
   "metadata": {},
   "source": [
    "****\n",
    "## linspace() ile Array Oluşturma"
   ]
  },
  {
   "cell_type": "markdown",
   "id": "ae91fbdf-049f-4583-ba60-56317748c0c9",
   "metadata": {},
   "source": [
    "__start, stop olmak üzere iki zorunlu parametresi vardır.  \n",
    "start, stop ; üretilecek değerlerin başlangıç ve bitiş noktalarını belirler.  \n",
    "stop değeri default olarak dahildir.    \n",
    "Opsiyonel \"endpoint\" parametresi \"False\" yapılırsa stop değeri dışarıda bırakılır.  \n",
    "Opsiyonel olarak \"num\" parametresi girilebilir. \"num\" üretilecek değerlerin    \n",
    "sayısını belirler, default olarak 50 dir.__"
   ]
  },
  {
   "cell_type": "code",
   "execution_count": 425,
   "id": "d7535674-23df-42f3-b8e7-3ca0d2b701e5",
   "metadata": {
    "tags": []
   },
   "outputs": [
    {
     "name": "stdout",
     "output_type": "stream",
     "text": [
      "[2.   2.25 2.5  2.75 3.  ]\n"
     ]
    }
   ],
   "source": [
    "arr = np.linspace(2.0, 3.0, num=5)\n",
    "\n",
    "print(arr)"
   ]
  },
  {
   "cell_type": "code",
   "execution_count": 428,
   "id": "d38355d0-4c1d-4b72-aa48-67591d302da7",
   "metadata": {},
   "outputs": [
    {
     "name": "stdout",
     "output_type": "stream",
     "text": [
      "[2.         2.02040816 2.04081633 2.06122449 2.08163265 2.10204082\n",
      " 2.12244898 2.14285714 2.16326531 2.18367347 2.20408163 2.2244898\n",
      " 2.24489796 2.26530612 2.28571429 2.30612245 2.32653061 2.34693878\n",
      " 2.36734694 2.3877551  2.40816327 2.42857143 2.44897959 2.46938776\n",
      " 2.48979592 2.51020408 2.53061224 2.55102041 2.57142857 2.59183673\n",
      " 2.6122449  2.63265306 2.65306122 2.67346939 2.69387755 2.71428571\n",
      " 2.73469388 2.75510204 2.7755102  2.79591837 2.81632653 2.83673469\n",
      " 2.85714286 2.87755102 2.89795918 2.91836735 2.93877551 2.95918367\n",
      " 2.97959184 3.        ]\n"
     ]
    }
   ],
   "source": [
    "# num değeri girilmezse default olarak 50 alacaktır.\n",
    "# Yani 50 tane değer üretecektir.\n",
    "\n",
    "arr = np.linspace(2.0, 3.0)  #num için değer girilmedi\n",
    "\n",
    "print(arr)"
   ]
  },
  {
   "cell_type": "code",
   "execution_count": 433,
   "id": "caca0806-acb2-4996-8add-de4ca204500a",
   "metadata": {},
   "outputs": [
    {
     "name": "stdout",
     "output_type": "stream",
     "text": [
      "[ 1.  2.  3.  4.  5.  6.  7.  8.  9. 10.]\n",
      "float64\n"
     ]
    }
   ],
   "source": [
    "arr = np.linspace(1, 10, num=10 )  #dtype girilmediği için float üretecek\n",
    "\n",
    "print(arr)\n",
    "print(arr.dtype)"
   ]
  },
  {
   "cell_type": "code",
   "execution_count": 436,
   "id": "7ab34842-4872-414d-b116-183c5da4e9f0",
   "metadata": {},
   "outputs": [
    {
     "name": "stdout",
     "output_type": "stream",
     "text": [
      "[ 1  2  3  4  5  6  7  8  9 10]\n",
      "int32\n"
     ]
    }
   ],
   "source": [
    "\n",
    "arr = np.linspace(1, 10, num=10, dtype=int )  \n",
    "\n",
    "print(arr)\n",
    "print(arr.dtype)"
   ]
  },
  {
   "cell_type": "code",
   "execution_count": 437,
   "id": "bb2553a6-de6e-45b8-a861-0d5b19ff809d",
   "metadata": {},
   "outputs": [
    {
     "name": "stdout",
     "output_type": "stream",
     "text": [
      "[ 1  3  5  7 10]\n"
     ]
    }
   ],
   "source": [
    "\n",
    "arr = np.linspace(1, 10, num=5, dtype=int )  \n",
    "\n",
    "print(arr)\n"
   ]
  },
  {
   "cell_type": "code",
   "execution_count": 438,
   "id": "2191f92a-8231-4849-aad9-d4ca47756651",
   "metadata": {},
   "outputs": [
    {
     "name": "stdout",
     "output_type": "stream",
     "text": [
      "[ 1  1  2  2  3  4  4  5  5  6  7  7  8  8  9 10]\n"
     ]
    }
   ],
   "source": [
    "arr = np.linspace(1, 10, num=16, dtype=int )  \n",
    "\n",
    "print(arr)"
   ]
  },
  {
   "cell_type": "code",
   "execution_count": 439,
   "id": "8a171326-56a3-457c-988a-a9cb07625863",
   "metadata": {},
   "outputs": [
    {
     "name": "stdout",
     "output_type": "stream",
     "text": [
      "[2.  2.2 2.4 2.6 2.8]\n"
     ]
    }
   ],
   "source": [
    "#bitiş değeri dahil olmasın istiyorsak \"endpoint\" False yapılır\n",
    "\n",
    "arr = np.linspace(2.0, 3.0, num=5, endpoint=False)\n",
    "\n",
    "print(arr)"
   ]
  },
  {
   "cell_type": "markdown",
   "id": "b6a367f0-9433-4522-93ae-909ff8705c2d",
   "metadata": {},
   "source": [
    "****\n",
    "## logspace( ) ile Array Oluşturma"
   ]
  },
  {
   "cell_type": "markdown",
   "id": "6a98df28-afaf-4641-bcd0-e95833be5b14",
   "metadata": {},
   "source": [
    "__start, stop olmak üzere iki zorunlu parametresi vardır.  \n",
    "DİKKAT !!! :  \n",
    "start, stop ; üretilecek elemanların \"üs değerlerinin\"    \n",
    "başlangıç ve bitiş noktalarını belirler.  stop değeri default olarak dahildir.__\n",
    "  \n",
    "__Opsiyonel \"base\" parametresi ise \"taban\" değerini belirler.  \n",
    "Herhangi bir değer girilmezse default olarak; 10 'dur.__  \n",
    "  \n",
    "__Opsiyonel \"endpoint\" parametresi \"False\" yapılırsa stop değeri dışarıda bırakılır.  \n",
    "Opsiyonel olarak \"num\" parametresi girilebilir. \"num\" üretilecek değerlerin    \n",
    "sayısını belirler, default olarak 50 dir.__"
   ]
  },
  {
   "cell_type": "code",
   "execution_count": 440,
   "id": "78d9f485-9828-467d-bb4f-4f25b6517821",
   "metadata": {},
   "outputs": [
    {
     "name": "stdout",
     "output_type": "stream",
     "text": [
      "[ 100.          215.443469    464.15888336 1000.        ]\n"
     ]
    }
   ],
   "source": [
    "arr = np.logspace(2.0, 3.0, num=4) \n",
    "# 10**2.0 ile başlayıp devam edecek, taban değeri default; 10'dur.\n",
    "print(arr)"
   ]
  },
  {
   "cell_type": "code",
   "execution_count": 442,
   "id": "bfcc9258-83d7-4d10-8ef6-b7267f17c205",
   "metadata": {},
   "outputs": [
    {
     "name": "stdout",
     "output_type": "stream",
     "text": [
      "[    100    2154   46415 1000000]\n"
     ]
    }
   ],
   "source": [
    "\n",
    "arr = np.logspace(2, 6, num=4, dtype=int)\n",
    "#array data tipi integer aldık ancak üs değerleri hala float alınacak,\n",
    "#üretilen elemanlar da float üs değerlerinin sonuçları olacak.\n",
    "print(arr)"
   ]
  },
  {
   "cell_type": "code",
   "execution_count": 459,
   "id": "a6440d30-e7ec-41e7-b2ff-a45c98c8815c",
   "metadata": {},
   "outputs": [
    {
     "data": {
      "image/png": "[encoded data removed]",
      "text/plain": [
       "<Figure size 640x480 with 1 Axes>"
      ]
     },
     "metadata": {},
     "output_type": "display_data"
    }
   ],
   "source": [
    "# matplotlib modulunu import etmeden önce;\n",
    "# \" pip install matplotlib \" komutu ile terminalden yüklemeyi unutmayın.\n",
    "\n",
    "import matplotlib.pyplot as plt\n",
    "N = 10\n",
    "x1 = np.logspace(0.1, 1, N, endpoint=True)\n",
    "x2 = np.logspace(0.1, 1, N, endpoint=False)\n",
    "y = np.zeros(N)\n",
    "plt.plot(x1, y, 'o')\n",
    "\n",
    "plt.plot(x2, y + 0.5, 'o')\n",
    "\n",
    "plt.ylim([-0.5, 1])\n",
    "\n",
    "plt.show()"
   ]
  }
 ],
 "metadata": {
  "kernelspec": {
   "display_name": "Python 3 (ipykernel)",
   "language": "python",
   "name": "python3"
  },
  "language_info": {
   "codemirror_mode": {
    "name": "ipython",
    "version": 3
   },
   "file_extension": ".py",
   "mimetype": "text/x-python",
   "name": "python",
   "nbconvert_exporter": "python",
   "pygments_lexer": "ipython3",
   "version": "3.10.8"
  }
 },
 "nbformat": 4,
 "nbformat_minor": 5
}
