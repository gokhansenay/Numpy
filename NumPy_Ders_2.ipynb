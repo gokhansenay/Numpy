{
 "cells": [
  {
   "cell_type": "markdown",
   "id": "88027238-088e-43b3-93b5-8bc90aa50c53",
   "metadata": {},
   "source": [
    "# Numpy - DERS-2"
   ]
  },
  {
   "cell_type": "markdown",
   "id": "100286c9-4eeb-4fb5-bbae-3535d38ce204",
   "metadata": {},
   "source": [
    "# Array Elemanlarına Erişim "
   ]
  },
  {
   "cell_type": "markdown",
   "id": "d108c255-2400-4a73-ab90-9d1af724f09e",
   "metadata": {
    "tags": []
   },
   "source": [
    "**Array'lerde her elemanın bir index numarası vardır.\n",
    "   Index numarası ilk eleman için 0 'dır. \n",
    "   0 ile başlayıp 1' er artarak devam eder.\n",
    "   Array'in elemanlarına bu index numarası ile erişilebilir.**"
   ]
  },
  {
   "cell_type": "markdown",
   "id": "3d4b0d7b-68c6-48dd-ab57-ff60235299ce",
   "metadata": {},
   "source": [
    "**Syntax :**\n",
    "****\n",
    "**array_ismi [ index_numarası ]**"
   ]
  },
  {
   "cell_type": "code",
   "execution_count": 84,
   "id": "324a8639-4877-4b3a-8736-645d74dfcaf8",
   "metadata": {},
   "outputs": [
    {
     "name": "stdout",
     "output_type": "stream",
     "text": [
      "1 2\n"
     ]
    }
   ],
   "source": [
    "arr = np.array([1, 2, 3, 4, 5, 6, 7])\n",
    "\n",
    "print( arr[0], arr[1] )"
   ]
  },
  {
   "cell_type": "code",
   "execution_count": 85,
   "id": "6aa661d2-a698-4017-82ec-2f1ed43cf1a8",
   "metadata": {},
   "outputs": [
    {
     "data": {
      "text/plain": [
       "3"
      ]
     },
     "execution_count": 85,
     "metadata": {},
     "output_type": "execute_result"
    }
   ],
   "source": [
    "arr[2]"
   ]
  },
  {
   "cell_type": "markdown",
   "id": "9e0a6e33-410c-472e-9add-a70fada7c129",
   "metadata": {},
   "source": [
    "**List yapısından farklı olarak NumPy Array'lerde multi-indexing yapılabilir.\n",
    "  Yani belirli index numaralarındaki birden fazla elemanı tek seferde getirme işlemi yapabiliriz, \n",
    "  ancak sonuç yine bir array olarak gelir. Syntax da farklıdır :**\n",
    "****\n",
    "         "
   ]
  },
  {
   "cell_type": "markdown",
   "id": "43b71874-f0d5-4699-9e0d-2485dac6635f",
   "metadata": {},
   "source": [
    "**array_ismi [ [ array_num, array_num, array_num ] ]**"
   ]
  },
  {
   "cell_type": "code",
   "execution_count": 88,
   "id": "eb71b564-8005-494c-bf98-6fe56e631fbf",
   "metadata": {},
   "outputs": [
    {
     "name": "stdout",
     "output_type": "stream",
     "text": [
      "[3 6 2]\n"
     ]
    }
   ],
   "source": [
    "print( arr[ [2, 5, 1] ] )"
   ]
  },
  {
   "cell_type": "markdown",
   "id": "fdb17695-a3a9-4be6-b589-456bf65cfe55",
   "metadata": {},
   "source": [
    "# Negative Indexing (Negatif Indexleme)"
   ]
  },
  {
   "cell_type": "markdown",
   "id": "4eb3f02d-48bf-4adc-a2fa-d83a188129e9",
   "metadata": {},
   "source": [
    "**Array'lerde ilk elemandan son elemana doğru (soldan sağa) index numaraları 0, 1, 2, 3...\n",
    " şeklinde gitmektedir.**\n",
    "    "
   ]
  },
  {
   "cell_type": "markdown",
   "id": "97e10289-365b-4230-83d7-8e71f43d1857",
   "metadata": {},
   "source": [
    "**Eğer sağdan sola gelmek istersek index -1 ile başlar -2, -3, -4.... şeklinde devam eder.\n",
    "  Buna negative indexing denilir.\n",
    "  Ayrıca bu şekilde array'in son elemanına doğrudan -1 index numarası ile erişilebilir.**"
   ]
  },
  {
   "cell_type": "code",
   "execution_count": 2,
   "id": "c7a9ab03-c5e4-4bc2-add2-04269b947b91",
   "metadata": {},
   "outputs": [
    {
     "data": {
      "text/plain": [
       "7"
      ]
     },
     "execution_count": 2,
     "metadata": {},
     "output_type": "execute_result"
    }
   ],
   "source": [
    "import numpy as np\n",
    "\n",
    "arr = np.array([1, 2, 3, 4, 5, 6, 7])\n",
    "\n",
    "arr[-1]"
   ]
  },
  {
   "cell_type": "code",
   "execution_count": 3,
   "id": "56ae16d8-57b8-4537-9827-b7dff6825f31",
   "metadata": {},
   "outputs": [
    {
     "data": {
      "text/plain": [
       "6"
      ]
     },
     "execution_count": 3,
     "metadata": {},
     "output_type": "execute_result"
    }
   ],
   "source": [
    "arr[-2]"
   ]
  },
  {
   "cell_type": "markdown",
   "id": "ed2ff835-5acb-4445-b23d-33896a2db352",
   "metadata": {},
   "source": [
    "# Temel Array Türleri"
   ]
  },
  {
   "cell_type": "markdown",
   "id": "d77818d1-6a13-4463-a8ee-07072dfdcb28",
   "metadata": {},
   "source": [
    "****\n",
    "**0-D Arrays**"
   ]
  },
  {
   "cell_type": "code",
   "execution_count": 19,
   "id": "81e07acc-ee5c-4a7c-b5ec-56ba63a7f74a",
   "metadata": {},
   "outputs": [
    {
     "name": "stdout",
     "output_type": "stream",
     "text": [
      "42\n"
     ]
    }
   ],
   "source": [
    "import numpy as np\n",
    "\n",
    "arr = np.array(42)\n",
    "\n",
    "print(arr)"
   ]
  },
  {
   "cell_type": "markdown",
   "id": "bdb310dc-ae90-4e23-b557-8aa2eff81c06",
   "metadata": {},
   "source": [
    "****\n",
    "**1-D Arrays**"
   ]
  },
  {
   "cell_type": "markdown",
   "id": "0783f55f-b1e0-4477-9a7d-607357671e19",
   "metadata": {},
   "source": [
    "**0-D Array'leri elemanları olarak alan array'lerdir.\n",
    "  Tek-boyutlu ya da 1-D Array olarak adlandırılırlar.**"
   ]
  },
  {
   "cell_type": "code",
   "execution_count": null,
   "id": "06aa555f-fd6c-473a-80aa-d83af1bc7fad",
   "metadata": {},
   "outputs": [],
   "source": [
    "import numpy as np"
   ]
  },
  {
   "cell_type": "code",
   "execution_count": 21,
   "id": "bfe309e9-b5bc-4a4c-928f-35cd4e964f99",
   "metadata": {},
   "outputs": [
    {
     "name": "stdout",
     "output_type": "stream",
     "text": [
      "[1 2 3 4 5]\n"
     ]
    }
   ],
   "source": [
    "arr = np.array([1, 2, 3, 4, 5])\n",
    "\n",
    "print(arr)"
   ]
  },
  {
   "cell_type": "markdown",
   "id": "a7d67c99-8fe2-4c41-b365-3a2f6e601253",
   "metadata": {},
   "source": [
    "**1-D Array Elemanlarına Erişim :**"
   ]
  },
  {
   "cell_type": "code",
   "execution_count": 36,
   "id": "3f7d94e0-25a7-4822-8564-d9dea8f8ada8",
   "metadata": {},
   "outputs": [
    {
     "data": {
      "text/plain": [
       "3"
      ]
     },
     "execution_count": 36,
     "metadata": {},
     "output_type": "execute_result"
    }
   ],
   "source": [
    "arr[2]"
   ]
  },
  {
   "cell_type": "code",
   "execution_count": 35,
   "id": "20379c38-d441-4d86-9c43-162bf99d64c0",
   "metadata": {},
   "outputs": [
    {
     "name": "stdout",
     "output_type": "stream",
     "text": [
      "\n",
      " 1 \n",
      " 2 \n",
      " 3 \n",
      " 5\n"
     ]
    }
   ],
   "source": [
    "print( \"\\n\", arr[0], \"\\n\", arr[1], \"\\n\", arr[2], \"\\n\", arr[-1] )"
   ]
  },
  {
   "cell_type": "markdown",
   "id": "e0c69560-8235-4bd4-97c5-adc86900c2f2",
   "metadata": {},
   "source": [
    "****\n",
    "**2-D Arrays**"
   ]
  },
  {
   "cell_type": "markdown",
   "id": "6cfae8fc-e5ca-4c27-bc51-57b15cceef34",
   "metadata": {},
   "source": [
    "**1-D Array'leri elemanları olarak alan array'lerdir.**"
   ]
  },
  {
   "cell_type": "code",
   "execution_count": 41,
   "id": "bdbbd6bb-dd76-40dc-af6b-05ecc9147425",
   "metadata": {},
   "outputs": [
    {
     "name": "stdout",
     "output_type": "stream",
     "text": [
      "[[1 2 3]\n",
      " [4 5 6]]\n"
     ]
    }
   ],
   "source": [
    "arr = np.array([[1, 2, 3], [4, 5, 6]])\n",
    "\n",
    "print(arr)"
   ]
  },
  {
   "cell_type": "markdown",
   "id": "c8cfc53c-bafc-4b2d-befa-4a1eaf0b3422",
   "metadata": {},
   "source": [
    "**2-D Array Elemanlarına Erişim :**"
   ]
  },
  {
   "cell_type": "markdown",
   "id": "2c624582-90ea-4aaa-a68b-e040e9d59b72",
   "metadata": {},
   "source": [
    "**2 boyutlu array'leri satır ve sütunlara sahip bir tablo olarak düşünebiliriz.**"
   ]
  },
  {
   "cell_type": "code",
   "execution_count": 42,
   "id": "e54abf63-3a5d-42a8-87fa-00762135b167",
   "metadata": {},
   "outputs": [
    {
     "name": "stdout",
     "output_type": "stream",
     "text": [
      "1.satırın 2. elemanı :  2\n"
     ]
    }
   ],
   "source": [
    "arr = np.array([[1, 2, 3, 4, 5], [6, 7, 8, 9, 10]])\n",
    "\n",
    "print('1.satırın 2. elemanı : ', arr[0, 1])"
   ]
  },
  {
   "cell_type": "markdown",
   "id": "62f63841-0c85-4b57-82d5-33ff6d752fba",
   "metadata": {},
   "source": [
    "**1. satırın index numarası 0, 2. elemanın index numarası 1 olacağı için\n",
    "  arr[0, 1] yapılır.**"
   ]
  },
  {
   "cell_type": "code",
   "execution_count": 44,
   "id": "8214f208-12d4-4b96-a0a6-f1342aa990d1",
   "metadata": {},
   "outputs": [
    {
     "name": "stdout",
     "output_type": "stream",
     "text": [
      "2.satırın 5.elemanı :  10\n"
     ]
    }
   ],
   "source": [
    "arr = np.array([[1,2,3,4,5], [6,7,8,9,10]])\n",
    "\n",
    "print('2.satırın 5.elemanı : ', arr[1, 4])"
   ]
  },
  {
   "cell_type": "markdown",
   "id": "724caa22-aa3d-4716-a7e0-e335569a4949",
   "metadata": {},
   "source": [
    "****\n",
    "**3-D Arrays**"
   ]
  },
  {
   "cell_type": "markdown",
   "id": "dff8806d-d15f-4844-a393-c200a8529a74",
   "metadata": {},
   "source": [
    "**2-D (2 boyutlu) Array'leri elemanları olarak alan array'lerdir.**"
   ]
  },
  {
   "cell_type": "code",
   "execution_count": 45,
   "id": "3f2a9686-e725-45ed-bcc3-fb31c35e7369",
   "metadata": {},
   "outputs": [
    {
     "name": "stdout",
     "output_type": "stream",
     "text": [
      "[[[1 2 3]\n",
      "  [4 5 6]]\n",
      "\n",
      " [[1 2 3]\n",
      "  [4 5 6]]]\n"
     ]
    }
   ],
   "source": [
    "import numpy as np\n",
    "\n",
    "arr = np.array([[[1, 2, 3], [4, 5, 6]], [[1, 2, 3], [4, 5, 6]]])\n",
    "\n",
    "print(arr)"
   ]
  },
  {
   "cell_type": "markdown",
   "id": "48b445ea-1cf6-40b4-96bc-2a4014faceb7",
   "metadata": {},
   "source": [
    "**3-D Array Elemanlarına Erişim :**"
   ]
  },
  {
   "cell_type": "code",
   "execution_count": 46,
   "id": "9579ab1d-d2f4-4292-8dc5-b401f0f9140d",
   "metadata": {},
   "outputs": [
    {
     "name": "stdout",
     "output_type": "stream",
     "text": [
      "6\n"
     ]
    }
   ],
   "source": [
    "import numpy as np\n",
    "\n",
    "arr = np.array([[[1, 2, 3], [4, 5, 6]], [[7, 8, 9], [10, 11, 12]]])\n",
    "\n",
    "print(arr[0, 1, 2])"
   ]
  },
  {
   "cell_type": "markdown",
   "id": "fe5c8d81-bbdf-45ac-a506-c4f57f4eeaf1",
   "metadata": {},
   "source": [
    "**AÇIKLAMA  :**"
   ]
  },
  {
   "cell_type": "markdown",
   "id": "e8106b5f-ceb9-4a77-8698-6ededa3464b0",
   "metadata": {},
   "source": [
    "**Burada ; array'i  arr[a, b] şeklinde düşünelim.**"
   ]
  },
  {
   "cell_type": "markdown",
   "id": "5ee731dc-2e5d-40b1-a921-9500f92efced",
   "metadata": {},
   "source": [
    "**a elemanı = [ [1, 2, 3], [4, 5, 6] ]**\n",
    "              "
   ]
  },
  {
   "cell_type": "markdown",
   "id": "e159a5a8-4e62-416a-a9a6-6cab208edab8",
   "metadata": {},
   "source": [
    "**b elemanı = [ [7, 8, 9],  [10, 11, 12] ]**"
   ]
  },
  {
   "cell_type": "markdown",
   "id": "49f0249d-9457-4f66-b7a6-b3abeb5e6761",
   "metadata": {
    "tags": []
   },
   "source": [
    "**arr[0, 1, 2] ifadesinde girdiğimiz ilk index numarası array'imizi arr[a, b] şeklinde düşünürsek\n",
    "bu arrayde a ve b elemanlarından hangisi olduğunu seçer. 0 girdiğimiz için a'yı seçtik.**"
   ]
  },
  {
   "cell_type": "markdown",
   "id": "91842df9-a698-4efe-8a07-b5cd019c5c18",
   "metadata": {},
   "source": [
    "**arr[0, 1, 2] ifadesinde girdiğimiz ikinci index numarası ;**"
   ]
  },
  {
   "cell_type": "markdown",
   "id": "a8e625a0-b981-4906-9955-b8fd8009d6b7",
   "metadata": {},
   "source": [
    "**a elemanında hangi eleman olduğunu seçer. \n",
    "  Girilen index num. 1 olduğu için a elemanında 1 index numaralı elemana yani;**"
   ]
  },
  {
   "cell_type": "markdown",
   "id": "eba01703-8c36-4555-a4ce-71fb8a768f88",
   "metadata": {},
   "source": [
    "**ikinci eleman olan [4, 5, 6] array'ine gider.**"
   ]
  },
  {
   "cell_type": "markdown",
   "id": "b99d99e4-b793-4339-8534-9051d8f54c68",
   "metadata": {},
   "source": [
    "**arr[0, 1, 2] ifadesinde girdiğimiz üçüncü index numarası ;**"
   ]
  },
  {
   "cell_type": "markdown",
   "id": "af8fac2e-f15b-4c53-896b-0aa9a0a0a8c9",
   "metadata": {},
   "source": [
    "**[4, 5, 6] array'inde hangi elemana gideceğini seçer.\n",
    "arr[0, 1, 2] bu index num. 2 olduğu için ;**"
   ]
  },
  {
   "cell_type": "markdown",
   "id": "e2f52af1-6926-4bb9-9448-9560b2ed8189",
   "metadata": {},
   "source": [
    "**[4, 5, 6] arrayinde 2 numaralı index'te \"6\" integer sayısı bulunuyor.**"
   ]
  },
  {
   "cell_type": "markdown",
   "id": "b411d55a-8122-4c26-989f-d1611eba1c67",
   "metadata": {},
   "source": [
    "**Böylece [[[1, 2, 3], [4, 5, 6]], [[7, 8, 9], [10, 11, 12]]] arrayinde;**"
   ]
  },
  {
   "cell_type": "markdown",
   "id": "bcf02885-6aaf-4625-b646-9a22eca14510",
   "metadata": {},
   "source": [
    "**arr[0, 1, 2] sonucu \"6\" olur.**"
   ]
  },
  {
   "cell_type": "markdown",
   "id": "73cadc3c-79ad-4edc-b3d5-edb2b9645c2d",
   "metadata": {},
   "source": [
    "****\n",
    "# Array'lerde Axis Nedir ?\n"
   ]
  },
  {
   "cell_type": "markdown",
   "id": "a72ba2ad-3402-4acb-9c23-a2677211f6d4",
   "metadata": {
    "tags": []
   },
   "source": [
    "<img src=\"numpy_arrays_axis.png\">"
   ]
  },
  {
   "cell_type": "code",
   "execution_count": null,
   "id": "0b4aac12-bea4-4940-b0d7-ee60cd8dfd7a",
   "metadata": {},
   "outputs": [],
   "source": []
  },
  {
   "cell_type": "markdown",
   "id": "740963b9-7845-4747-a6eb-795c8e972104",
   "metadata": {},
   "source": [
    "****\n",
    "# Array'ler Üzerinde Değişiklik Yapma \n",
    " ## Eleman Ekleme ve Silme"
   ]
  },
  {
   "cell_type": "markdown",
   "id": "6559d193-edff-4a2b-a7dd-44a3238cf999",
   "metadata": {},
   "source": [
    "****\n",
    "### append( ) Methodu ile Array'e Eleman ekleme"
   ]
  },
  {
   "cell_type": "markdown",
   "id": "5dfd1953-f100-42e0-abf6-12ab4a73ffdf",
   "metadata": {},
   "source": [
    "__Bir array'in sonuna değerler/elemanlar eklemeyi sağlar.__"
   ]
  },
  {
   "cell_type": "markdown",
   "id": "24961dd9-92f0-4ce4-8821-b230072a4fa1",
   "metadata": {},
   "source": [
    "__Zorunlu parametreleri ; array ve values(eklenecek değerler)__ "
   ]
  },
  {
   "cell_type": "code",
   "execution_count": 559,
   "id": "9a48b907-3b8f-4dcf-bbee-b8f21c8a756b",
   "metadata": {},
   "outputs": [
    {
     "name": "stdout",
     "output_type": "stream",
     "text": [
      "[1 2 3 4 5 6 7 8 9]\n"
     ]
    }
   ],
   "source": [
    "arr= np.append([1, 2, 3], [[4, 5, 6], [7, 8, 9]])\n",
    "\n",
    "print(arr)"
   ]
  },
  {
   "cell_type": "code",
   "execution_count": 138,
   "id": "3004fc5a-50b7-4c8f-89f7-57e2334157de",
   "metadata": {},
   "outputs": [
    {
     "name": "stdout",
     "output_type": "stream",
     "text": [
      "[1 2 3 4 5 6 7 8 9]\n"
     ]
    }
   ],
   "source": [
    "# axis parametresi opsiyoneldir.\n",
    "# axis Default olarak alınırsa; flattened(düzleştirilmiş-tek-boyutlu halde) bir array üretilir.\n",
    "\n",
    "import numpy as np\n",
    "\n",
    "arr = np.append([[1, 2, 3], [4, 5, 6]], [[7, 8, 9]])\n",
    "\n",
    "print(arr)"
   ]
  },
  {
   "cell_type": "code",
   "execution_count": 5,
   "id": "1aab2008-334d-4e47-842d-5cb24e50ca41",
   "metadata": {},
   "outputs": [
    {
     "name": "stdout",
     "output_type": "stream",
     "text": [
      "[[1 2 3]\n",
      " [4 5 6]\n",
      " [7 8 9]]\n"
     ]
    }
   ],
   "source": [
    "\n",
    "arr = np.append([[1, 2, 3], [4, 5, 6]], [[7, 8, 9]], axis=0)\n",
    "\n",
    "print(arr)"
   ]
  },
  {
   "cell_type": "code",
   "execution_count": 7,
   "id": "ed123095-a8f7-4635-a87c-3d1952c8f1c4",
   "metadata": {},
   "outputs": [
    {
     "name": "stdout",
     "output_type": "stream",
     "text": [
      "[1 2 3 4 5 6 7 8 9]\n"
     ]
    }
   ],
   "source": [
    "\n",
    "a = np.array([[1,2,3],[4,5,6]]) \n",
    "a = np.append(a, [7,8,9])\n",
    "print(a)"
   ]
  },
  {
   "cell_type": "code",
   "execution_count": 12,
   "id": "f80fcbf3-fe22-47c0-89b1-11c14474eaf7",
   "metadata": {},
   "outputs": [
    {
     "name": "stdout",
     "output_type": "stream",
     "text": [
      "Orjinal array : \n",
      " [[1 2 3]\n",
      " [4 5 6]] \n",
      "\n",
      "Yeni array : \n",
      " [[1 2 3]\n",
      " [4 5 6]\n",
      " [7 8 9]]\n"
     ]
    }
   ],
   "source": [
    "\n",
    "b = np.array([[1,2,3],[4,5,6]]) \n",
    "\n",
    "print(\"Orjinal array : \\n\", b, \"\\n\")\n",
    "\n",
    "b = np.append(b, [[7,8,9]], axis=0)\n",
    "\n",
    "print(\"Yeni array : \\n\", b)"
   ]
  },
  {
   "cell_type": "code",
   "execution_count": 21,
   "id": "95e93cdb-bea6-4bc3-a024-a2b12e45b97a",
   "metadata": {},
   "outputs": [
    {
     "name": "stdout",
     "output_type": "stream",
     "text": [
      "Orjinal array : \n",
      " [[1 2 3]\n",
      " [4 5 6]] \n",
      "\n",
      "Yeni array : \n",
      " [[1 2 3 5 5 5]\n",
      " [4 5 6 7 8 9]]\n"
     ]
    }
   ],
   "source": [
    "\n",
    "\n",
    "b = np.array([[1,2,3],[4,5,6]]) \n",
    "\n",
    "print(\"Orjinal array : \\n\", b, \"\\n\")\n",
    "\n",
    "b = np.append(b, [[5,5,5],[7,8,9]], axis = 1)\n",
    "\n",
    "print(\"Yeni array : \\n\", b)"
   ]
  },
  {
   "cell_type": "markdown",
   "id": "6cd6c766-615b-412f-a0d1-1c837600b2ca",
   "metadata": {},
   "source": [
    "****\n",
    "### insert( ) Methodu ile Array'e Eleman Ekleme"
   ]
  },
  {
   "cell_type": "markdown",
   "id": "17415823-7631-49c4-ae0f-3ee4811bb07f",
   "metadata": {},
   "source": [
    "__Zorunlu parametreleri ; array, obj ve eklenecek_değerler__  \n",
    "__obj parametresine ekleme yapılacak indexler girilir.__  \n",
    "\n",
    "__axis parametresi opsiyoneldir.__  \n",
    "__Default olarak; flattened(düzleştirilmiş-tek-boyutlu halde) bir array üretilir.__  \n",
    "__Axis default haldeyken eleman ekleme yapılırken de indexler tek-boyutlu array halinde düşünülür.__  "
   ]
  },
  {
   "cell_type": "code",
   "execution_count": 67,
   "id": "d991f85e-4c9d-4907-9d6a-99ba32d6bf12",
   "metadata": {},
   "outputs": [
    {
     "data": {
      "text/plain": [
       "array([2, 3, 9, 4, 5, 6, 7])"
      ]
     },
     "execution_count": 67,
     "metadata": {},
     "output_type": "execute_result"
    }
   ],
   "source": [
    "arr = np.array([2, 3, 4, 5, 6, 7])\n",
    "\n",
    "np.insert(arr, 2, 9)"
   ]
  },
  {
   "cell_type": "code",
   "execution_count": 68,
   "id": "a4990e02-16a8-42ad-8371-82a6ac0f367c",
   "metadata": {},
   "outputs": [
    {
     "name": "stdout",
     "output_type": "stream",
     "text": [
      "[[1 1]\n",
      " [2 2]\n",
      " [3 3]]\n"
     ]
    }
   ],
   "source": [
    "\n",
    "a = np.array([[1, 1], [2, 2], [3, 3]])\n",
    "\n",
    "print(a)"
   ]
  },
  {
   "cell_type": "code",
   "execution_count": 69,
   "id": "33a8be71-5c67-4816-b833-a6f7e62e0644",
   "metadata": {},
   "outputs": [
    {
     "data": {
      "text/plain": [
       "array([1, 5, 1, 2, 2, 3, 3])"
      ]
     },
     "execution_count": 69,
     "metadata": {},
     "output_type": "execute_result"
    }
   ],
   "source": []
  },
  {
   "cell_type": "code",
   "execution_count": 70,
   "id": "a894fa27-18df-43df-9bab-690492c68327",
   "metadata": {},
   "outputs": [
    {
     "data": {
      "text/plain": [
       "array([[1, 5, 1],\n",
       "       [2, 5, 2],\n",
       "       [3, 5, 3]])"
      ]
     },
     "execution_count": 70,
     "metadata": {},
     "output_type": "execute_result"
    }
   ],
   "source": [
    "np.insert(a, 1, 5, axis=1)"
   ]
  },
  {
   "cell_type": "code",
   "execution_count": 71,
   "id": "729959af-42c0-45a5-b019-a14e030de484",
   "metadata": {},
   "outputs": [
    {
     "data": {
      "text/plain": [
       "array([[5, 1, 1],\n",
       "       [5, 2, 2],\n",
       "       [5, 3, 3]])"
      ]
     },
     "execution_count": 71,
     "metadata": {},
     "output_type": "execute_result"
    }
   ],
   "source": [
    "np.insert(a, 0, 5, axis=1)"
   ]
  },
  {
   "cell_type": "code",
   "execution_count": 72,
   "id": "265ff8c8-0894-477d-ae74-2be4ea9bdbf6",
   "metadata": {},
   "outputs": [
    {
     "data": {
      "text/plain": [
       "array([[1, 1],\n",
       "       [5, 5],\n",
       "       [2, 2],\n",
       "       [3, 3]])"
      ]
     },
     "execution_count": 72,
     "metadata": {},
     "output_type": "execute_result"
    }
   ],
   "source": [
    "np.insert(a, 1, 5, axis=0)"
   ]
  },
  {
   "cell_type": "code",
   "execution_count": 73,
   "id": "07b982c3-8eb9-4fcf-9828-7023b24045b1",
   "metadata": {},
   "outputs": [
    {
     "data": {
      "text/plain": [
       "array([[5, 5],\n",
       "       [1, 1],\n",
       "       [2, 2],\n",
       "       [3, 3]])"
      ]
     },
     "execution_count": 73,
     "metadata": {},
     "output_type": "execute_result"
    }
   ],
   "source": [
    "np.insert(a, 0, 5, axis=0)"
   ]
  },
  {
   "cell_type": "code",
   "execution_count": 30,
   "id": "3d6c4a0b-6c43-4459-b898-88751651466e",
   "metadata": {},
   "outputs": [
    {
     "data": {
      "text/plain": [
       "array([[1, 1],\n",
       "       [2, 2],\n",
       "       [3, 3],\n",
       "       [5, 5]])"
      ]
     },
     "execution_count": 30,
     "metadata": {},
     "output_type": "execute_result"
    }
   ],
   "source": [
    "np.insert(a, 3, 5, axis=0)"
   ]
  },
  {
   "cell_type": "code",
   "execution_count": 74,
   "id": "11fca1cd-a3b1-4890-8228-0621e58cafde",
   "metadata": {},
   "outputs": [
    {
     "name": "stdout",
     "output_type": "stream",
     "text": [
      "[[1 1]\n",
      " [2 2]\n",
      " [3 3]]\n"
     ]
    }
   ],
   "source": [
    "a = np.array([[1, 1], [2, 2], [3, 3]])\n",
    "print(a)"
   ]
  },
  {
   "cell_type": "code",
   "execution_count": 75,
   "id": "e9cbbe2d-6d7f-401e-b2d8-c24bf317a378",
   "metadata": {},
   "outputs": [
    {
     "data": {
      "text/plain": [
       "array([[1, 4, 1],\n",
       "       [2, 5, 2],\n",
       "       [3, 6, 3]])"
      ]
     },
     "execution_count": 75,
     "metadata": {},
     "output_type": "execute_result"
    }
   ],
   "source": [
    "np.insert(a, [1], [[4],[5],[6]], axis=1)"
   ]
  },
  {
   "cell_type": "code",
   "execution_count": 76,
   "id": "403e430b-02a8-43c2-a799-9b0a78f429b0",
   "metadata": {},
   "outputs": [
    {
     "data": {
      "text/plain": [
       "array([[1, 4, 5, 6, 1],\n",
       "       [2, 4, 5, 6, 2],\n",
       "       [3, 4, 5, 6, 3]])"
      ]
     },
     "execution_count": 76,
     "metadata": {},
     "output_type": "execute_result"
    }
   ],
   "source": [
    "np.insert(a, [1], [4,5,6], axis=1)"
   ]
  },
  {
   "cell_type": "code",
   "execution_count": 77,
   "id": "d30722c5-41fe-407a-a7c8-82fe5d71a560",
   "metadata": {},
   "outputs": [
    {
     "data": {
      "text/plain": [
       "array([[1, 4, 5, 6, 1],\n",
       "       [2, 4, 5, 6, 2],\n",
       "       [3, 4, 5, 6, 3]])"
      ]
     },
     "execution_count": 77,
     "metadata": {},
     "output_type": "execute_result"
    }
   ],
   "source": [
    "np.insert(a, 1, [[4],[5],[6]], axis=1)"
   ]
  },
  {
   "cell_type": "code",
   "execution_count": 78,
   "id": "a640ac92-d400-4188-b1b2-2aa41c97e740",
   "metadata": {
    "tags": []
   },
   "outputs": [
    {
     "data": {
      "text/plain": [
       "True"
      ]
     },
     "execution_count": 78,
     "metadata": {},
     "output_type": "execute_result"
    }
   ],
   "source": [
    "np.array_equal(np.insert(a, 1, [1, 2, 3], axis=1),\n",
    "               np.insert(a, [1], [[1],[2],[3]], axis=1))"
   ]
  },
  {
   "cell_type": "code",
   "execution_count": 79,
   "id": "06fb92df-adf8-4ea5-b3f6-e46668ddc36d",
   "metadata": {},
   "outputs": [
    {
     "data": {
      "text/plain": [
       "array([[1, 4, 1],\n",
       "       [2, 5, 2],\n",
       "       [3, 6, 3]])"
      ]
     },
     "execution_count": 79,
     "metadata": {},
     "output_type": "execute_result"
    }
   ],
   "source": [
    "np.insert(a, 1, [4,5,6], axis=1)"
   ]
  },
  {
   "cell_type": "code",
   "execution_count": 80,
   "id": "1ef3b0e0-1ff6-4e24-a896-f179b4d24f58",
   "metadata": {},
   "outputs": [
    {
     "data": {
      "text/plain": [
       "array([1, 1, 5, 2, 6, 2, 3, 3])"
      ]
     },
     "execution_count": 80,
     "metadata": {},
     "output_type": "execute_result"
    }
   ],
   "source": [
    "b = np.array([1, 1, 2, 2, 3, 3])\n",
    "np.insert(b, slice(2, 4), [5, 6])  # slice() methodu ; slice(start, stop, end) \n",
    "                                   # end dahil değildir."
   ]
  },
  {
   "cell_type": "code",
   "execution_count": 55,
   "id": "3783dff3-72a4-4121-abf0-d563e972fe78",
   "metadata": {},
   "outputs": [
    {
     "name": "stdout",
     "output_type": "stream",
     "text": [
      "[1 1 2 2 3 3]\n"
     ]
    }
   ],
   "source": [
    "print(b)"
   ]
  },
  {
   "cell_type": "code",
   "execution_count": 56,
   "id": "9541ab50-1ac2-4ac2-9bdf-17ddaf1365be",
   "metadata": {},
   "outputs": [
    {
     "data": {
      "text/plain": [
       "array([1, 1, 5, 6, 2, 2, 3, 3])"
      ]
     },
     "execution_count": 56,
     "metadata": {},
     "output_type": "execute_result"
    }
   ],
   "source": [
    "np.insert(b, [2, 2], [5, 6])"
   ]
  },
  {
   "cell_type": "code",
   "execution_count": 57,
   "id": "9991c238-b0a1-4cfc-b316-c5baba2ddea7",
   "metadata": {},
   "outputs": [
    {
     "data": {
      "text/plain": [
       "array([1, 1, 5, 6, 2, 2, 3, 3])"
      ]
     },
     "execution_count": 57,
     "metadata": {},
     "output_type": "execute_result"
    }
   ],
   "source": [
    "np.insert(b, 2, [5, 6])"
   ]
  },
  {
   "cell_type": "code",
   "execution_count": 61,
   "id": "bc01222b-b7d9-4973-a5fb-6053a75842bd",
   "metadata": {},
   "outputs": [
    {
     "name": "stdout",
     "output_type": "stream",
     "text": [
      "[[1 1]\n",
      " [2 2]\n",
      " [3 3]]\n"
     ]
    }
   ],
   "source": [
    "a = np.array([[1, 1], [2, 2], [3, 3]])\n",
    "print(a)"
   ]
  },
  {
   "cell_type": "code",
   "execution_count": 82,
   "id": "65fdc3fb-319e-421d-84e5-9a25403b39bf",
   "metadata": {},
   "outputs": [
    {
     "data": {
      "text/plain": [
       "array([1, 5, 6, 1, 2, 2, 3, 3])"
      ]
     },
     "execution_count": 82,
     "metadata": {},
     "output_type": "execute_result"
    }
   ],
   "source": [
    "np.insert(a, 1, [5, 6])  # axis belirtmediğimiz için flattened çalışacaktır."
   ]
  },
  {
   "cell_type": "code",
   "execution_count": 84,
   "id": "a44d0d3f-b947-472e-a4b8-74c3f7b711bd",
   "metadata": {},
   "outputs": [
    {
     "data": {
      "text/plain": [
       "array([1, 5, 6, 1, 2, 2, 3, 3])"
      ]
     },
     "execution_count": 84,
     "metadata": {},
     "output_type": "execute_result"
    }
   ],
   "source": [
    "np.insert(a, [1], [5, 6])"
   ]
  },
  {
   "cell_type": "code",
   "execution_count": 85,
   "id": "09d1cfd3-c566-4670-9188-01568d49a26b",
   "metadata": {},
   "outputs": [
    {
     "data": {
      "text/plain": [
       "True"
      ]
     },
     "execution_count": 85,
     "metadata": {},
     "output_type": "execute_result"
    }
   ],
   "source": [
    "np.array_equal(np.insert(a, 1, [5, 6]),\n",
    "               np.insert(a, [1], [5, 6]) )"
   ]
  },
  {
   "cell_type": "code",
   "execution_count": 88,
   "id": "ae5774af-7827-4006-b4ec-aa46bd9bc909",
   "metadata": {},
   "outputs": [
    {
     "data": {
      "text/plain": [
       "array([[1, 1],\n",
       "       [5, 5],\n",
       "       [6, 6],\n",
       "       [2, 2],\n",
       "       [3, 3]])"
      ]
     },
     "execution_count": 88,
     "metadata": {},
     "output_type": "execute_result"
    }
   ],
   "source": [
    "np.insert(a, [1], [[5], [6]], axis=0)"
   ]
  },
  {
   "cell_type": "code",
   "execution_count": 92,
   "id": "15eb6c2e-3612-4d55-b6de-6100d719b903",
   "metadata": {},
   "outputs": [
    {
     "data": {
      "text/plain": [
       "array([[1, 1],\n",
       "       [5, 5],\n",
       "       [6, 6],\n",
       "       [2, 2],\n",
       "       [3, 3]])"
      ]
     },
     "execution_count": 92,
     "metadata": {},
     "output_type": "execute_result"
    }
   ],
   "source": [
    "np.insert(a, 1, [[5], [6]], axis=0)"
   ]
  },
  {
   "cell_type": "code",
   "execution_count": 89,
   "id": "5cee09d0-e5f3-4570-be45-000d3ed7d552",
   "metadata": {},
   "outputs": [
    {
     "data": {
      "text/plain": [
       "array([[1, 1],\n",
       "       [5, 6],\n",
       "       [2, 2],\n",
       "       [3, 3]])"
      ]
     },
     "execution_count": 89,
     "metadata": {},
     "output_type": "execute_result"
    }
   ],
   "source": [
    "np.insert(a, 1, [5, 6], axis=0)"
   ]
  },
  {
   "cell_type": "code",
   "execution_count": 91,
   "id": "cc984b6a-d31f-4e41-be1e-ffd3b7beb2c4",
   "metadata": {},
   "outputs": [
    {
     "data": {
      "text/plain": [
       "array([[1, 5, 6, 1],\n",
       "       [2, 5, 6, 2],\n",
       "       [3, 5, 6, 3]])"
      ]
     },
     "execution_count": 91,
     "metadata": {},
     "output_type": "execute_result"
    }
   ],
   "source": [
    "np.insert(a, 1, [[5], [6]], axis=1)"
   ]
  },
  {
   "cell_type": "markdown",
   "id": "a7650bf9-39e3-497a-9bac-95776f7d0003",
   "metadata": {},
   "source": [
    "****\n",
    "### delete( ) Methodu ile Array'den Eleman Silme"
   ]
  },
  {
   "cell_type": "markdown",
   "id": "641dae32-825d-4494-b464-bdf5006f825a",
   "metadata": {},
   "source": [
    "__Zorunlu parametreleri ; array ve obj__  \n",
    "__syntax yapısı ; delete( array, obj, axis)__  \n",
    "__obj parametresine silinecek indexler girilir. \n",
    "Yalnız burada girilen indexler çok-boyutlu arraylerde subarray(alt arrayler)'leri alır.__  \n",
    "\n",
    "__axis parametresi opsiyoneldir.__  \n",
    "__Default olarak; flattened(düzleştirilmiş-tek-boyutlu halde) bir array üretilir.__  \n",
    "__Axis default haldeyken eleman silme yapılırken de indexler tek-boyutlu array halinde düşünülür.__  "
   ]
  },
  {
   "cell_type": "code",
   "execution_count": 95,
   "id": "8f1d7786-fb9f-47f7-9e29-fcfa711cfb67",
   "metadata": {},
   "outputs": [
    {
     "name": "stdout",
     "output_type": "stream",
     "text": [
      "[[ 1  2  3  4]\n",
      " [ 5  6  7  8]\n",
      " [ 9 10 11 12]]\n"
     ]
    }
   ],
   "source": [
    "arr = np.array([[1,2,3,4], [5,6,7,8], [9,10,11,12]])\n",
    "\n",
    "print(arr)"
   ]
  },
  {
   "cell_type": "code",
   "execution_count": 100,
   "id": "799b2f3e-9864-4a79-819b-7f413b455ae3",
   "metadata": {},
   "outputs": [
    {
     "data": {
      "text/plain": [
       "array([ 1,  3,  4,  5,  6,  7,  8,  9, 10, 11, 12])"
      ]
     },
     "execution_count": 100,
     "metadata": {},
     "output_type": "execute_result"
    }
   ],
   "source": [
    "\n",
    "np.delete(arr, 1) \n",
    "\n",
    "# axis değeri default alınacak. Dolayısıyla array, flattened olarak alınır ve öyle işlem yapılır.\n",
    "# obj'ye girilen index değeri 1 olduğu için silinecek eleman \"2\" değeri olur."
   ]
  },
  {
   "cell_type": "code",
   "execution_count": 129,
   "id": "768a0a4d-71cc-4e66-99b0-6bb4a6328b1f",
   "metadata": {},
   "outputs": [
    {
     "data": {
      "text/plain": [
       "array([[ 1,  3,  4],\n",
       "       [ 5,  7,  8],\n",
       "       [ 9, 11, 12]])"
      ]
     },
     "execution_count": 129,
     "metadata": {},
     "output_type": "execute_result"
    }
   ],
   "source": [
    "\n",
    "np.delete(arr, 1, axis=1)\n",
    "\n",
    "# axis 1 olduğu için bu eksendeki subarray silinecek. \n",
    "# obj 1 olduğu için bu indexteki subarray siliniyor."
   ]
  },
  {
   "cell_type": "code",
   "execution_count": 104,
   "id": "c6769309-78bb-4d3b-828d-7e08d4d6501d",
   "metadata": {},
   "outputs": [
    {
     "name": "stdout",
     "output_type": "stream",
     "text": [
      "[[ 1  2  3  4]\n",
      " [ 5  6  7  8]\n",
      " [ 9 10 11 12]]\n"
     ]
    }
   ],
   "source": [
    "\n",
    "print(arr)"
   ]
  },
  {
   "cell_type": "code",
   "execution_count": 105,
   "id": "60ac0775-7f92-4ae0-a67b-842073782e03",
   "metadata": {},
   "outputs": [
    {
     "data": {
      "text/plain": [
       "array([ 1,  3,  5,  7,  8,  9, 10, 11, 12])"
      ]
     },
     "execution_count": 105,
     "metadata": {},
     "output_type": "execute_result"
    }
   ],
   "source": [
    "\n",
    "np.delete(arr, [1, 3, 5])"
   ]
  },
  {
   "cell_type": "code",
   "execution_count": 106,
   "id": "e3a0dcfe-66e7-4935-a362-01c8f578d478",
   "metadata": {},
   "outputs": [
    {
     "data": {
      "text/plain": [
       "array([ 1,  3,  4,  5,  6,  7,  8,  9, 10, 11, 12])"
      ]
     },
     "execution_count": 106,
     "metadata": {},
     "output_type": "execute_result"
    }
   ],
   "source": [
    "np.delete(arr, [1, 1])"
   ]
  },
  {
   "cell_type": "code",
   "execution_count": 109,
   "id": "c1c98032-1688-44b5-978b-57983bfa571f",
   "metadata": {},
   "outputs": [
    {
     "name": "stdout",
     "output_type": "stream",
     "text": [
      "[[ 1  2  3  4]\n",
      " [ 5  6  7  8]\n",
      " [ 9 10 11 12]]\n"
     ]
    }
   ],
   "source": [
    "\n",
    "print(arr)"
   ]
  },
  {
   "cell_type": "code",
   "execution_count": 135,
   "id": "9e96a68a-4801-4797-b08d-a0987a690bb6",
   "metadata": {},
   "outputs": [
    {
     "data": {
      "text/plain": [
       "array([[ 1,  3,  4],\n",
       "       [ 5,  7,  8],\n",
       "       [ 9, 11, 12]])"
      ]
     },
     "execution_count": 135,
     "metadata": {},
     "output_type": "execute_result"
    }
   ],
   "source": [
    "\n",
    "np.delete(arr, 1, axis=1)\n",
    "#axis-1 de 1 nolu indexteki subarray [2,6,10] olur ve bu subarray silinir."
   ]
  },
  {
   "cell_type": "code",
   "execution_count": 125,
   "id": "29348e10-918f-4e98-bb1b-35d02f7fa6b3",
   "metadata": {},
   "outputs": [
    {
     "data": {
      "text/plain": [
       "array([[ 1,  3,  4],\n",
       "       [ 5,  7,  8],\n",
       "       [ 9, 11, 12]])"
      ]
     },
     "execution_count": 125,
     "metadata": {},
     "output_type": "execute_result"
    }
   ],
   "source": [
    "np.delete(arr, [1], axis=1)"
   ]
  },
  {
   "cell_type": "code",
   "execution_count": 122,
   "id": "87264a50-189a-496d-96af-30a77d017ea7",
   "metadata": {},
   "outputs": [
    {
     "data": {
      "text/plain": [
       "array([[ 1,  3,  4],\n",
       "       [ 5,  7,  8],\n",
       "       [ 9, 11, 12]])"
      ]
     },
     "execution_count": 122,
     "metadata": {},
     "output_type": "execute_result"
    }
   ],
   "source": [
    "\n",
    "np.delete(arr, [1,1], axis=1)\n",
    "\n",
    "#axis-1 de [1,1] indexindeki subarray [2,6,10] olur ve bu subarray silinir."
   ]
  },
  {
   "cell_type": "code",
   "execution_count": 123,
   "id": "cec5cd0e-c632-412e-bc26-82cf63c7dcce",
   "metadata": {},
   "outputs": [
    {
     "data": {
      "text/plain": [
       "True"
      ]
     },
     "execution_count": 123,
     "metadata": {},
     "output_type": "execute_result"
    }
   ],
   "source": [
    "np.array_equal(np.delete(arr, [1,1], axis=1),\n",
    "               np.delete(arr, [1], axis=1) )"
   ]
  },
  {
   "cell_type": "code",
   "execution_count": 126,
   "id": "d923137c-b75b-4c90-9453-36a46b8eaa33",
   "metadata": {},
   "outputs": [
    {
     "name": "stdout",
     "output_type": "stream",
     "text": [
      "[[ 1  2  3  4]\n",
      " [ 5  6  7  8]\n",
      " [ 9 10 11 12]]\n"
     ]
    }
   ],
   "source": [
    "\n",
    "print(arr)"
   ]
  },
  {
   "cell_type": "code",
   "execution_count": 131,
   "id": "a7ec237f-36e4-4cc7-817c-6a6e0c001156",
   "metadata": {},
   "outputs": [
    {
     "data": {
      "text/plain": [
       "array([[ 3,  4],\n",
       "       [ 7,  8],\n",
       "       [11, 12]])"
      ]
     },
     "execution_count": 131,
     "metadata": {},
     "output_type": "execute_result"
    }
   ],
   "source": [
    "np.delete(arr, [0, 1], axis=1)\n",
    "\n",
    "# axis-1'de 0 nolu indexteki subarray ; [1, 5, 9]\n",
    "# axis-1'de 1 nolu indexteki subarray ; [2, 6, 10]"
   ]
  },
  {
   "cell_type": "code",
   "execution_count": 132,
   "id": "1bbfc28d-7ad7-42a4-a3a1-374c65aa66d0",
   "metadata": {
    "tags": []
   },
   "outputs": [
    {
     "data": {
      "text/plain": [
       "array([[ 2,  4],\n",
       "       [ 6,  8],\n",
       "       [10, 12]])"
      ]
     },
     "execution_count": 132,
     "metadata": {},
     "output_type": "execute_result"
    }
   ],
   "source": [
    "\n",
    "np.delete(arr, [0, 2], axis=1)"
   ]
  },
  {
   "cell_type": "code",
   "execution_count": 137,
   "id": "c8d76c03-1119-4571-a8ba-071965819bab",
   "metadata": {},
   "outputs": [
    {
     "name": "stdout",
     "output_type": "stream",
     "text": [
      "[[ 1  2  3  4]\n",
      " [ 5  6  7  8]\n",
      " [ 9 10 11 12]]\n"
     ]
    }
   ],
   "source": [
    "\n",
    "print(arr)"
   ]
  },
  {
   "cell_type": "code",
   "execution_count": 136,
   "id": "d38c0edd-7867-4f76-9810-3def64c5fa94",
   "metadata": {},
   "outputs": [
    {
     "data": {
      "text/plain": [
       "array([[ 1,  2,  3,  4],\n",
       "       [ 9, 10, 11, 12]])"
      ]
     },
     "execution_count": 136,
     "metadata": {},
     "output_type": "execute_result"
    }
   ],
   "source": [
    "\n",
    "np.delete(arr, 1, axis=0)  \n",
    "\n",
    "# axis değeri 0 olduğu için obj'ye girilen index değerindeki subarray alınır.\n",
    "# obj değeri 1 ; ve 1 nolu indexte subarray olarak [5,6,7,8] bulunuyor.\n",
    "# [5,6,7,8] subarray'i silinecektir."
   ]
  },
  {
   "cell_type": "code",
   "execution_count": 142,
   "id": "5231c9bf-1874-474e-9af2-238e365fa9de",
   "metadata": {},
   "outputs": [
    {
     "name": "stdout",
     "output_type": "stream",
     "text": [
      "[[ 1  2  3  4]\n",
      " [ 5  6  7  8]\n",
      " [ 9 10 11 12]]\n"
     ]
    }
   ],
   "source": [
    "arr = np.array([[1,2,3,4], [5,6,7,8], [9,10,11,12]])\n",
    "\n",
    "print(arr)\n"
   ]
  },
  {
   "cell_type": "code",
   "execution_count": 143,
   "id": "cb73ad76-fc9e-4282-b359-ef8710047ae5",
   "metadata": {},
   "outputs": [
    {
     "data": {
      "text/plain": [
       "array([[ 9, 10, 11, 12]])"
      ]
     },
     "execution_count": 143,
     "metadata": {},
     "output_type": "execute_result"
    }
   ],
   "source": [
    "np.delete(arr, [0, 1], axis=0)"
   ]
  },
  {
   "cell_type": "code",
   "execution_count": null,
   "id": "7a37843f-feb6-412c-9f42-bdbc82c7db12",
   "metadata": {},
   "outputs": [],
   "source": []
  },
  {
   "cell_type": "markdown",
   "id": "b87dce15-5ffa-403c-88e7-af1834ed0348",
   "metadata": {
    "tags": []
   },
   "source": [
    "# Slicing Arrays | Arraylar'i Parçalara Ayırma İşlemi"
   ]
  },
  {
   "cell_type": "markdown",
   "id": "f72b57f3-548b-4b02-a338-690f15d6e3f2",
   "metadata": {},
   "source": [
    "**>> Slicing arrays ;\n",
    "Verilen bir index numarasından bir diğerine kadar array elemanlarını alma işlemidir.**"
   ]
  },
  {
   "cell_type": "markdown",
   "id": "ece1869a-4909-4b07-a6e1-c21c550ffbaf",
   "metadata": {},
   "source": [
    "**Syntax ;**    \n",
    "****\n",
    "**array[start:stop]**\n",
    "****    \n",
    "    ya da \n",
    "****    \n",
    "**array[start:stop:step]**\n",
    "****   \n",
    "    şeklindedir."
   ]
  },
  {
   "cell_type": "markdown",
   "id": "81cfb90a-eacb-4b27-a045-e7dbdf1cee03",
   "metadata": {},
   "source": [
    "**Start değeri için default(varsayılan) değer : 0** \n",
    "\n",
    "**Stop değeri için default(varsayılan) değer : arrayin maximum index değeridir(son elemanın indexi)**\n",
    "\n",
    "**Step değeri için default(varsayılan) değer : 1**"
   ]
  },
  {
   "cell_type": "markdown",
   "id": "5d3b4ec5-3826-4077-84e8-5e5e5381411b",
   "metadata": {},
   "source": [
    "**Örnek :**"
   ]
  },
  {
   "cell_type": "code",
   "execution_count": null,
   "id": "415235e2-0212-4100-9353-d2765ffcff15",
   "metadata": {},
   "outputs": [
    {
     "data": {
      "text/plain": [
       "array([1, 2, 3, 4, 5, 6, 7])"
      ]
     },
     "execution_count": 24,
     "metadata": {},
     "output_type": "execute_result"
    }
   ],
   "source": [
    "arr = np.array([1, 2, 3, 4, 5, 6, 7])\n",
    "\n",
    "arr[0:8]   # İlk indeksten başlar 8. index'e kadar alır ; 8. index dahil değildir...!"
   ]
  },
  {
   "cell_type": "markdown",
   "id": "3640ed0e-95e5-40a6-b3c2-e51750b198f8",
   "metadata": {},
   "source": [
    "**|--> 8. index'e kadar aldığı için en son 7. indexi almış oldu böylece bütün array'i aldı.\n",
    "  Step değeri belirtmediğimiz için default step değerini aldı, yani 1'er 1'er artırdı.**"
   ]
  },
  {
   "cell_type": "code",
   "execution_count": 25,
   "id": "58f5160b-ca83-4efd-a602-64a0f45dabce",
   "metadata": {},
   "outputs": [
    {
     "data": {
      "text/plain": [
       "array([1, 2, 3, 4, 5, 6, 7])"
      ]
     },
     "execution_count": 25,
     "metadata": {},
     "output_type": "execute_result"
    }
   ],
   "source": [
    "arr[0:8:1]"
   ]
  },
  {
   "cell_type": "code",
   "execution_count": 194,
   "id": "eae8e2e4-e828-4473-b94e-7a6d9749182c",
   "metadata": {},
   "outputs": [
    {
     "data": {
      "text/plain": [
       "array([1, 2, 3, 4, 5, 6, 7])"
      ]
     },
     "execution_count": 194,
     "metadata": {},
     "output_type": "execute_result"
    }
   ],
   "source": [
    "arr[:]"
   ]
  },
  {
   "cell_type": "markdown",
   "id": "773a6c19-4dc1-4514-a33d-afeec554cb45",
   "metadata": {},
   "source": [
    "**|--> Step değerini belirterek bu şekilde de aynı sonucu elde edebiliriz...**"
   ]
  },
  {
   "cell_type": "code",
   "execution_count": 41,
   "id": "ec503473-6037-4aa7-a67b-8bed5693376b",
   "metadata": {},
   "outputs": [
    {
     "data": {
      "text/plain": [
       "array([3, 4, 5, 6, 7])"
      ]
     },
     "execution_count": 41,
     "metadata": {},
     "output_type": "execute_result"
    }
   ],
   "source": [
    "arr = np.array([1, 2, 3, 4, 5, 6, 7])\n",
    "arr[2:]"
   ]
  },
  {
   "cell_type": "markdown",
   "id": "74848578-643d-4bef-a8a2-e4ff5a3768cd",
   "metadata": {},
   "source": [
    "**|--> Start değerini belirttik, 2 numaralı indexten başladı. \n",
    "       Stop değerini vermediğimiz için array'in son elemanına kadar aldı,\n",
    "       Step değerini vermediğimiz için default olarak 1'er 1'er artırdı...**"
   ]
  },
  {
   "cell_type": "code",
   "execution_count": 47,
   "id": "cedb7fd2-1d52-47ea-b1d2-c1942b78a395",
   "metadata": {},
   "outputs": [
    {
     "data": {
      "text/plain": [
       "array([1, 2, 3, 4, 5, 6, 7])"
      ]
     },
     "execution_count": 47,
     "metadata": {},
     "output_type": "execute_result"
    }
   ],
   "source": [
    "arr[:8]"
   ]
  },
  {
   "cell_type": "markdown",
   "id": "d558df79-ea39-4901-a906-1e27906a9696",
   "metadata": {},
   "source": [
    "**|--> Start değerini vermedik, 0 numaralı indexten başladı. \n",
    "       Stop değerini verdik, 8'e kadar aldı, 8 dahil değil..!\n",
    "       Step değerini vermediğimiz için default olarak 1'er 1'er artırdı...**"
   ]
  },
  {
   "cell_type": "code",
   "execution_count": 49,
   "id": "1c7ab38e-5a43-43e6-87da-4ef671e8393e",
   "metadata": {},
   "outputs": [
    {
     "data": {
      "text/plain": [
       "array([1, 2, 3, 4, 5, 6, 7])"
      ]
     },
     "execution_count": 49,
     "metadata": {},
     "output_type": "execute_result"
    }
   ],
   "source": [
    "arr[:]"
   ]
  },
  {
   "cell_type": "code",
   "execution_count": 50,
   "id": "3ecaab95-b7ec-4c42-9e6f-804c473932e5",
   "metadata": {},
   "outputs": [
    {
     "data": {
      "text/plain": [
       "array([1, 2, 3, 4, 5, 6, 7])"
      ]
     },
     "execution_count": 50,
     "metadata": {},
     "output_type": "execute_result"
    }
   ],
   "source": [
    "arr[::]"
   ]
  },
  {
   "cell_type": "markdown",
   "id": "09400a0f-8bd8-4d31-a506-e84e03440c36",
   "metadata": {},
   "source": [
    "**arr[:] kullanımı array[start:stop] syntax'ına,\n",
    "  arr[::] kullanımı array[start:stop:step] syntax'ına uygun oldukları için\n",
    "  hiçbir değer girilmediği durumlarda default değerleri alarak bütün array'i verdi...!**"
   ]
  },
  {
   "cell_type": "code",
   "execution_count": 51,
   "id": "47d5cdbc-c7b4-4ff8-b207-c63d4e95055a",
   "metadata": {},
   "outputs": [
    {
     "name": "stdout",
     "output_type": "stream",
     "text": [
      "[2 3 4 5]\n"
     ]
    }
   ],
   "source": [
    "arr = np.array([1, 2, 3, 4, 5, 6, 7])\n",
    "print(arr[1:5])"
   ]
  },
  {
   "cell_type": "code",
   "execution_count": 9,
   "id": "fe766b38-682b-4f8b-8dd9-2a5de9ba4387",
   "metadata": {},
   "outputs": [
    {
     "data": {
      "text/plain": [
       "array([5, 6, 7])"
      ]
     },
     "execution_count": 9,
     "metadata": {},
     "output_type": "execute_result"
    }
   ],
   "source": [
    "arr[4:]            #arr[1, 2, 3, 4, 5, 6, 7]"
   ]
  },
  {
   "cell_type": "code",
   "execution_count": 10,
   "id": "a9ad05ba-633b-41f7-9421-f76384f76a3b",
   "metadata": {},
   "outputs": [
    {
     "data": {
      "text/plain": [
       "array([1, 2, 3, 4])"
      ]
     },
     "execution_count": 10,
     "metadata": {},
     "output_type": "execute_result"
    }
   ],
   "source": [
    "arr[:4]            #arr[1, 2, 3, 4, 5, 6, 7]"
   ]
  },
  {
   "cell_type": "code",
   "execution_count": 11,
   "id": "a46449f1-3597-4c63-b02a-b4a6f5dfb6b7",
   "metadata": {},
   "outputs": [
    {
     "data": {
      "text/plain": [
       "array([2, 3])"
      ]
     },
     "execution_count": 11,
     "metadata": {},
     "output_type": "execute_result"
    }
   ],
   "source": [
    "arr[1:3]           #arr[1, 2, 3, 4, 5, 6, 7]"
   ]
  },
  {
   "cell_type": "code",
   "execution_count": 16,
   "id": "06621f6e-9065-46d9-a93c-f4cf66a42a35",
   "metadata": {},
   "outputs": [
    {
     "data": {
      "text/plain": [
       "array([2, 3, 4, 5, 6])"
      ]
     },
     "execution_count": 16,
     "metadata": {},
     "output_type": "execute_result"
    }
   ],
   "source": [
    "arr[1:-1]          # arr[1, 2, 3, 4, 5, 6, 7]\n",
    "                # 1.indexten başladı, -1. indexe kadar aldı -1.index dahil değil\n",
    "                # yani son eleman olan \"7\" yi almadı."
   ]
  },
  {
   "cell_type": "code",
   "execution_count": 18,
   "id": "4baf780c-b57f-417f-9547-55da9a52cebe",
   "metadata": {},
   "outputs": [
    {
     "data": {
      "text/plain": [
       "array([2, 3, 4])"
      ]
     },
     "execution_count": 18,
     "metadata": {},
     "output_type": "execute_result"
    }
   ],
   "source": [
    "arr[1:-3]           # arr[1, 2, 3, 4, 5, 6, 7]"
   ]
  },
  {
   "cell_type": "code",
   "execution_count": 13,
   "id": "128f5b9c-2773-4335-9d3f-a99a9c74eb09",
   "metadata": {},
   "outputs": [
    {
     "data": {
      "text/plain": [
       "array([1, 3, 5, 7])"
      ]
     },
     "execution_count": 13,
     "metadata": {},
     "output_type": "execute_result"
    }
   ],
   "source": [
    "arr[::2]           #arr[1, 2, 3, 4, 5, 6, 7]"
   ]
  },
  {
   "cell_type": "code",
   "execution_count": 14,
   "id": "ccc1551e-3e09-48b1-9191-40bd20bc2da7",
   "metadata": {},
   "outputs": [
    {
     "data": {
      "text/plain": [
       "array([7])"
      ]
     },
     "execution_count": 14,
     "metadata": {},
     "output_type": "execute_result"
    }
   ],
   "source": [
    "arr[-1:]           #arr[1, 2, 3, 4, 5, 6, 7]"
   ]
  },
  {
   "cell_type": "code",
   "execution_count": 15,
   "id": "c4151936-e87c-4351-bd74-176c98021f0d",
   "metadata": {},
   "outputs": [
    {
     "data": {
      "text/plain": [
       "array([7, 6, 5, 4, 3, 2, 1])"
      ]
     },
     "execution_count": 15,
     "metadata": {},
     "output_type": "execute_result"
    }
   ],
   "source": [
    "arr[-1::-1]              #arr[1, 2, 3, 4, 5, 6, 7]"
   ]
  },
  {
   "cell_type": "markdown",
   "id": "c239b773-0d9d-40bf-bf3a-e3abeb93d987",
   "metadata": {},
   "source": [
    "****\n",
    "**|-->Array'i parçalayıp bir başka variable'a atamasını yapabilir,\n",
    "ve farklı bir array olarak kullanabiliriz; veya atama yapmadan doğrudan bir \n",
    "kontrol ifadesi içinde ya da başka bir yerde kullanabiliriz.**"
   ]
  },
  {
   "cell_type": "markdown",
   "id": "0bd12853-9918-490d-8e67-50fdd4cfe2ff",
   "metadata": {},
   "source": [
    "**Örnekler :**"
   ]
  },
  {
   "cell_type": "code",
   "execution_count": 57,
   "id": "1304c2fb-b59c-4e37-884b-93e988e2f5b0",
   "metadata": {},
   "outputs": [
    {
     "name": "stdout",
     "output_type": "stream",
     "text": [
      "[2 3]\n"
     ]
    }
   ],
   "source": [
    "arr = np.array([1,2,3,4,5,6,7])\n",
    "\n",
    "new_arr = arr[1:3]\n",
    "\n",
    "print(new_arr)"
   ]
  },
  {
   "cell_type": "code",
   "execution_count": 61,
   "id": "a05747c4-d4a5-40dd-b72a-0704574d6294",
   "metadata": {},
   "outputs": [
    {
     "name": "stdout",
     "output_type": "stream",
     "text": [
      "elseif bloğuna girdik.\n"
     ]
    }
   ],
   "source": [
    "x = 6\n",
    "\n",
    "if x in arr[1:4] :\n",
    "    print(\"if bloğuna girdik.\")\n",
    "    \n",
    "elif x in arr[3:8]:\n",
    "    print(\"elseif bloğuna girdik.\")"
   ]
  },
  {
   "cell_type": "markdown",
   "id": "5d3ac20b-761a-4e3f-9943-d00cfef21ce6",
   "metadata": {},
   "source": [
    "***"
   ]
  },
  {
   "cell_type": "markdown",
   "id": "00d96b7a-578e-40ba-900b-fe3865984f1f",
   "metadata": {},
   "source": [
    "## 2-D Arrayleri Parçalara Ayırma | Slicing 2-D Arrays"
   ]
  },
  {
   "cell_type": "markdown",
   "id": "cec5b6b2-8e2e-4c4c-b0dc-92f702bd0118",
   "metadata": {},
   "source": [
    "**Eğer birden fazla boyuta sahip (2-D veya 3-D) arraylerde eleman erişimini**"
   ]
  },
  {
   "cell_type": "markdown",
   "id": "04daf031-d5c7-4f7f-bf18-551381ff8fd5",
   "metadata": {},
   "source": [
    "**doğru anladıysanız bu arraylerde parçalara ayırma işlemini de kolayca yapabilirsiniz.**"
   ]
  },
  {
   "cell_type": "markdown",
   "id": "08bf2482-0256-48a6-941c-a2c0c10876a7",
   "metadata": {},
   "source": [
    "****"
   ]
  },
  {
   "cell_type": "code",
   "execution_count": 47,
   "id": "62ff7233-e28a-44ea-b991-f40bc911ae52",
   "metadata": {},
   "outputs": [
    {
     "name": "stdout",
     "output_type": "stream",
     "text": [
      "[7 8 9]\n"
     ]
    }
   ],
   "source": [
    "import numpy as np\n",
    "\n",
    "arr = np.array([[1, 2, 3, 4, 5], [6, 7, 8, 9, 10]])\n",
    "\n",
    "print(arr[1, 1:4])"
   ]
  },
  {
   "cell_type": "markdown",
   "id": "c38f48e7-4162-43af-8ba0-0d0a7c83f05b",
   "metadata": {},
   "source": [
    "**Açıklama :**"
   ]
  },
  {
   "cell_type": "markdown",
   "id": "07341cdc-dcc2-4eb6-84ec-3f42dae3f260",
   "metadata": {
    "tags": []
   },
   "source": [
    "**arr[a,b] de girilen ilk değer yani a değeri 1 olduğu için**"
   ]
  },
  {
   "cell_type": "markdown",
   "id": "06263c72-5d8c-4925-a71c-f497c142e7d9",
   "metadata": {},
   "source": [
    "**arrayin 1 index numaralı elemanına yani [6, 7, 8, 9, 10] arrayine gitti.**"
   ]
  },
  {
   "cell_type": "markdown",
   "id": "c3ec6d2b-a311-4171-99da-3b80e963fd66",
   "metadata": {},
   "source": [
    "**arr[a,b] de b değeri 1:4 olduğu için a ile gidilen [6, 7, 8, 9, 10] arrayinde;**"
   ]
  },
  {
   "cell_type": "markdown",
   "id": "370e9c75-0c29-413d-9028-60e715f6e529",
   "metadata": {},
   "source": [
    "**1 num. index ten 4 numaralı index'e kadar (4 dahil değil) elemanları seçmiş olur.**"
   ]
  },
  {
   "cell_type": "markdown",
   "id": "bedf2962-e68d-4df9-88f6-36672bfbee87",
   "metadata": {},
   "source": [
    "**Sonuç [7, 8, 9] olur.**"
   ]
  },
  {
   "cell_type": "markdown",
   "id": "06e82202-f666-4215-b5ee-cd06059752cf",
   "metadata": {},
   "source": [
    "****"
   ]
  },
  {
   "cell_type": "code",
   "execution_count": 49,
   "id": "6bda0be3-081d-4b24-a28d-330d209bb137",
   "metadata": {},
   "outputs": [
    {
     "name": "stdout",
     "output_type": "stream",
     "text": [
      "[3 8]\n"
     ]
    }
   ],
   "source": [
    "import numpy as np\n",
    "\n",
    "arr = np.array([[1, 2, 3, 4, 5], [6, 7, 8, 9, 10]])\n",
    "\n",
    "print(arr[0:2, 2])"
   ]
  },
  {
   "cell_type": "markdown",
   "id": "b3086834-08c5-441b-acac-d09e6f2fb520",
   "metadata": {},
   "source": [
    "****"
   ]
  },
  {
   "cell_type": "markdown",
   "id": "76fc8882-fa17-4f98-a7e3-ba79b8dafe92",
   "metadata": {},
   "source": [
    "<b>Açıklama :  \n",
    "\n",
    "<b>arr[0:2, 2] ifadesinde ilk index değeri 0:2 olduğu için ;  \n",
    "\n",
    "<b>0 ve 1 nolu elementleri seçtik yani ;  \n",
    "\n",
    "<b>[1, 2, 3, 4, 5] ve [6, 7, 8, 9, 10] arraylerini seçtik.  \n",
    "\n",
    "<b>arr[0:2, 2] ifadesinde ikinci index değeri 2 olduğu için ;  \n",
    "\n",
    "<b>İlk index değeriyle(0:2) seçtiğimiz [1, 2, 3, 4, 5] ve [6, 7, 8, 9, 10] arraylerinde ;\n",
    "\n",
    "<b>2 index numarasında olan elemanları seçer. Dolayısıyla ;  \n",
    "\n",
    "<b>[1, 2, 3, 4, 5] arrayinde 2 numaralı indexte 3 değeri var.  \n",
    "\n",
    "<b>[6, 7, 8, 9, 10] arrayinde 2 numaralı indexte 8 değeri var.  \n",
    "\n",
    "<b>Sonuç [3,8] olur."
   ]
  },
  {
   "cell_type": "markdown",
   "id": "63113201-c351-4d44-b825-b3687dc1732a",
   "metadata": {},
   "source": [
    "****"
   ]
  },
  {
   "cell_type": "code",
   "execution_count": 50,
   "id": "9afbb4db-4b3a-4fb8-beb6-ec9e92870137",
   "metadata": {},
   "outputs": [
    {
     "name": "stdout",
     "output_type": "stream",
     "text": [
      "[[2 3 4]\n",
      " [7 8 9]]\n"
     ]
    }
   ],
   "source": [
    "import numpy as np\n",
    "\n",
    "arr = np.array([[1, 2, 3, 4, 5], [6, 7, 8, 9, 10]])\n",
    "\n",
    "print(arr[0:2, 1:4])"
   ]
  },
  {
   "cell_type": "markdown",
   "id": "c50bb704-eb19-4722-b9c6-8b7657a73a65",
   "metadata": {},
   "source": [
    "****"
   ]
  },
  {
   "cell_type": "markdown",
   "id": "07c557d8-b1ba-49ea-b691-0ab885a3ea59",
   "metadata": {},
   "source": [
    "# NumPy Data Tipleri ve Array Tipleri | Data Types - Array Types"
   ]
  },
  {
   "cell_type": "markdown",
   "id": "ec694e88-fbbf-4b07-be01-5f35ca3c560d",
   "metadata": {},
   "source": [
    "**NumPy'de bazı Data Tipleri ve gösterim sembolleri :**"
   ]
  },
  {
   "cell_type": "markdown",
   "id": "f6134cc2-fc17-46d3-8bf2-2107ce44d4b4",
   "metadata": {
    "tags": []
   },
   "source": [
    "__i - integer  \n",
    "b - boolean  \n",
    "f - float  \n",
    "S - string__"
   ]
  },
  {
   "cell_type": "markdown",
   "id": "622f74c3-0c76-47a1-9b1e-df53d13dc929",
   "metadata": {},
   "source": [
    "## Bir Arrayin Tipini Kontrol Etme | Checking the Data Type of an Array"
   ]
  },
  {
   "cell_type": "markdown",
   "id": "2b3ee866-c2a7-41b2-9bc8-72761d1f3335",
   "metadata": {},
   "source": [
    "__NumPy nin \"dtype\" attribute'ü bir arrayin tipini tutar.  \n",
    "Hem bir arrayin tipini görmek için hem de tip belirlemede kullanılabilir.__"
   ]
  },
  {
   "cell_type": "code",
   "execution_count": 54,
   "id": "146a8536-6a0b-4b8a-9f14-2859c3bc7955",
   "metadata": {},
   "outputs": [
    {
     "name": "stdout",
     "output_type": "stream",
     "text": [
      "int32\n"
     ]
    }
   ],
   "source": [
    "import numpy as np\n",
    "\n",
    "arr = np.array([1, 2, 3, 4, 5])\n",
    "\n",
    "print(arr.dtype)"
   ]
  },
  {
   "cell_type": "code",
   "execution_count": 53,
   "id": "15ef5fd5-bd74-4759-92bd-7df02693734f",
   "metadata": {},
   "outputs": [
    {
     "name": "stdout",
     "output_type": "stream",
     "text": [
      "float64\n"
     ]
    }
   ],
   "source": [
    "f_array = np.array([0, .5, 1, 1.5, 2])\n",
    "\n",
    "print(f_array.dtype)"
   ]
  },
  {
   "cell_type": "code",
   "execution_count": 55,
   "id": "a2e93a80-10d3-4da0-88a1-660d3a56b6ab",
   "metadata": {},
   "outputs": [
    {
     "name": "stdout",
     "output_type": "stream",
     "text": [
      "<U6\n"
     ]
    }
   ],
   "source": [
    "s_arr = np.array(['apple', 'banana', 'cherry'])\n",
    "\n",
    "print(s_arr.dtype)"
   ]
  },
  {
   "cell_type": "code",
   "execution_count": 57,
   "id": "e50c716c-dc0f-48e7-b09f-fc4c8d6ab3e8",
   "metadata": {},
   "outputs": [
    {
     "name": "stdout",
     "output_type": "stream",
     "text": [
      "[b'1' b'2' b'3' b'4']\n",
      "|S1\n"
     ]
    }
   ],
   "source": [
    "\n",
    "new_arr = np.array([1, 2, 3, 4], dtype='S')\n",
    "\n",
    "print(new_arr)  \n",
    "print(new_arr.dtype)"
   ]
  },
  {
   "cell_type": "code",
   "execution_count": 64,
   "id": "45f31d64-5482-4e3c-a48c-d588d081f0c5",
   "metadata": {},
   "outputs": [
    {
     "name": "stdout",
     "output_type": "stream",
     "text": [
      "[1 2 3 4]\n",
      "int32\n"
     ]
    }
   ],
   "source": [
    "import numpy as np\n",
    "\n",
    "arr = np.array([1, 2, 3, 4], dtype='i')\n",
    "\n",
    "print(arr)\n",
    "print(arr.dtype)"
   ]
  },
  {
   "cell_type": "code",
   "execution_count": 63,
   "id": "7b7e9d00-02df-4198-b7b1-07e65b96a466",
   "metadata": {},
   "outputs": [
    {
     "name": "stdout",
     "output_type": "stream",
     "text": [
      "[1 2 3 4]\n",
      "int32\n"
     ]
    }
   ],
   "source": [
    "import numpy as np\n",
    "\n",
    "arr = np.array([1, 2, 3, 4], dtype='i4')\n",
    "\n",
    "print(arr)\n",
    "print(arr.dtype)"
   ]
  },
  {
   "cell_type": "code",
   "execution_count": 60,
   "id": "c41df524-56e4-4656-a3f0-983d146ac86e",
   "metadata": {},
   "outputs": [
    {
     "name": "stdout",
     "output_type": "stream",
     "text": [
      "[1 2 3 4]\n",
      "int64\n"
     ]
    }
   ],
   "source": [
    "import numpy as np\n",
    "\n",
    "arr = np.array([1, 2, 3, 4], dtype='i8')\n",
    "\n",
    "print(arr)\n",
    "print(arr.dtype)"
   ]
  },
  {
   "cell_type": "code",
   "execution_count": 176,
   "id": "8d1e3cb2-17a7-43b1-b518-8ea4d67b194b",
   "metadata": {},
   "outputs": [
    {
     "name": "stdout",
     "output_type": "stream",
     "text": [
      "[1 2 3 4]\n",
      "int32\n"
     ]
    }
   ],
   "source": [
    "import sys\n",
    "import numpy as np\n",
    "\n",
    "arr = np.array([1, 2, 3, 4], dtype='int32')\n",
    "\n",
    "print(arr)\n",
    "print(arr.dtype)"
   ]
  },
  {
   "cell_type": "code",
   "execution_count": 61,
   "id": "90d1c091-53f3-43c1-869a-2a40f242b243",
   "metadata": {},
   "outputs": [
    {
     "name": "stdout",
     "output_type": "stream",
     "text": [
      "[1. 2. 3.]\n",
      "float32\n"
     ]
    }
   ],
   "source": [
    "\n",
    "f_arr = np.array([1, 2, 3], dtype='f')\n",
    "\n",
    "print(f_arr)  \n",
    "print(f_arr.dtype)"
   ]
  },
  {
   "cell_type": "markdown",
   "id": "50f44c1d-52ab-477a-9e6e-ed56f5ec43cd",
   "metadata": {},
   "source": [
    "## Array'in Data Tipini Değiştirmek"
   ]
  },
  {
   "cell_type": "markdown",
   "id": "bd47351d-40bb-44ac-8e5c-77dac326d364",
   "metadata": {},
   "source": [
    "__Bir array'in data tipini değiştirmek için astype() methodu kullanılır.  \n",
    "astype() methodu parametre olarak belirlenen string bir data tipi ifadesi alır.  \n",
    "Örneğin; integer için 'i', float için 'f' gibi.__  \n"
   ]
  },
  {
   "cell_type": "markdown",
   "id": "1b424309-bece-48fd-95ca-9f6d7560b88a",
   "metadata": {},
   "source": [
    "__Örnekler :__"
   ]
  },
  {
   "cell_type": "code",
   "execution_count": 69,
   "id": "aef1d842-f428-4df6-aa8e-1c905ff8a54a",
   "metadata": {},
   "outputs": [
    {
     "name": "stdout",
     "output_type": "stream",
     "text": [
      "float32\n",
      "[1. 2. 3. 4. 5.]\n"
     ]
    }
   ],
   "source": [
    "arr = np.array([1, 2, 3, 4, 5])\n",
    "\n",
    "arr = arr.astype('f')\n",
    "\n",
    "print(arr.dtype)\n",
    "print(arr)"
   ]
  },
  {
   "cell_type": "code",
   "execution_count": 70,
   "id": "82559fb9-70ad-4778-b855-4061fac7dafb",
   "metadata": {},
   "outputs": [
    {
     "name": "stdout",
     "output_type": "stream",
     "text": [
      "float64\n",
      "[1. 2. 3. 4. 5.]\n"
     ]
    }
   ],
   "source": [
    "arr = arr.astype('float64')\n",
    "\n",
    "print(arr.dtype)\n",
    "print(arr)"
   ]
  },
  {
   "cell_type": "code",
   "execution_count": 74,
   "id": "10112bd1-752d-4d14-ada7-c529b4980c8a",
   "metadata": {},
   "outputs": [
    {
     "name": "stdout",
     "output_type": "stream",
     "text": [
      "[1 2 3]\n",
      "int32\n"
     ]
    }
   ],
   "source": [
    "\n",
    "arr = np.array([1.1, 2.7, 3.5])\n",
    "\n",
    "newarr = arr.astype('i')  # Mevcut bir Arrayin tipini değiştirip başka bir variable'a  \n",
    "                          # atamasını yaparak yeni bir array de oluşturabiliriz...\n",
    "print(newarr)\n",
    "print(newarr.dtype)"
   ]
  },
  {
   "cell_type": "code",
   "execution_count": 75,
   "id": "4d24f809-51bd-4d0c-bcc3-a4076abbc5eb",
   "metadata": {},
   "outputs": [
    {
     "name": "stdout",
     "output_type": "stream",
     "text": [
      "[ True False  True]\n",
      "bool\n"
     ]
    }
   ],
   "source": [
    "arr = np.array([1, 0, 3])\n",
    "\n",
    "newarr = arr.astype(bool)\n",
    "\n",
    "print(newarr)\n",
    "print(newarr.dtype)"
   ]
  },
  {
   "cell_type": "code",
   "execution_count": 179,
   "id": "38d34332-9d86-43f0-9947-8a45a943825b",
   "metadata": {
    "tags": []
   },
   "outputs": [],
   "source": [
    "a = np.array([[1, 2, 3, 4, 5], [6, 7, 8, 9, 10]])\n",
    "\n",
    "# Output:\n",
    "# [[ 1  2  20  4  5]\n",
    "# [ 6  7 20  9 10]]\n"
   ]
  },
  {
   "cell_type": "code",
   "execution_count": 180,
   "id": "0306f1fe-c779-4464-b486-29ec17d40f85",
   "metadata": {
    "tags": []
   },
   "outputs": [
    {
     "name": "stdout",
     "output_type": "stream",
     "text": [
      "[[ 1  2 20  4  5]\n",
      " [ 6  7 20  9 10]]\n"
     ]
    }
   ],
   "source": [
    "\n",
    "a[:, 2] = 20\n",
    "print(a)"
   ]
  },
  {
   "cell_type": "code",
   "execution_count": null,
   "id": "be43ceff-595e-4c09-ae1c-b9bf4cb52873",
   "metadata": {},
   "outputs": [],
   "source": []
  },
  {
   "cell_type": "markdown",
   "id": "ade7bec6-6625-4dc2-a41c-c299b41828a9",
   "metadata": {
    "tags": []
   },
   "source": [
    "# NumPy Array'lerde Copy() Methodu ile Array Kopyalama"
   ]
  },
  {
   "cell_type": "markdown",
   "id": "2ecaa16c-0a88-455b-ab52-a355b0d9323c",
   "metadata": {},
   "source": [
    "__NumPy'de bir array, copy() methodu ile kopyalanabilir.  \n",
    "copy() methodu ile kopyalanan array ve orjinal array birbirinden ayrı olur.  \n",
    "Yani orjinal arrayde yapılan değişiklik kopyalanmış arrayi etkilemez.__"
   ]
  },
  {
   "cell_type": "markdown",
   "id": "ba00e48e-36ee-4b9c-8184-3717f962fe8f",
   "metadata": {},
   "source": [
    "__Örnekler :__"
   ]
  },
  {
   "cell_type": "code",
   "execution_count": 76,
   "id": "04cd5e55-d69c-44bf-9801-1bb29bb3f18d",
   "metadata": {},
   "outputs": [
    {
     "name": "stdout",
     "output_type": "stream",
     "text": [
      "[42  2  3  4  5]\n",
      "[1 2 3 4 5]\n"
     ]
    }
   ],
   "source": [
    "import numpy as np\n",
    "\n",
    "arr = np.array([1, 2, 3, 4, 5])\n",
    "x = arr.copy()\n",
    "arr[0] = 42\n",
    "\n",
    "print(arr)\n",
    "print(x)"
   ]
  },
  {
   "cell_type": "code",
   "execution_count": 77,
   "id": "f9657cb3-1373-4f98-b579-0886a107cd2f",
   "metadata": {},
   "outputs": [
    {
     "name": "stdout",
     "output_type": "stream",
     "text": [
      "[42  2  3  4  5]\n",
      "[ 1  2 16  4  5]\n"
     ]
    }
   ],
   "source": [
    "x[2] = 16\n",
    "\n",
    "print(arr)\n",
    "print(x)"
   ]
  },
  {
   "cell_type": "markdown",
   "id": "67f3673d-91b7-4464-bcd2-4d1f6f1ed1e0",
   "metadata": {},
   "source": [
    "## View() Methodu ve Copy() Methodu ile Farkı"
   ]
  },
  {
   "cell_type": "markdown",
   "id": "0f2af285-5db6-40c3-8264-28fc813cf74b",
   "metadata": {},
   "source": [
    "__view() methodu ile bir array kopyalanırsa orjinal arrayde  \n",
    "yapılacak bir değişiklik kopyalanmış arrayi de etkiler, değiştirir.__"
   ]
  },
  {
   "cell_type": "code",
   "execution_count": 78,
   "id": "219a3b00-47a8-4a8a-9108-4847ea9752d2",
   "metadata": {},
   "outputs": [
    {
     "name": "stdout",
     "output_type": "stream",
     "text": [
      "[42  2  3  4  5]\n",
      "[42  2  3  4  5]\n"
     ]
    }
   ],
   "source": [
    "import numpy as np\n",
    "\n",
    "arr = np.array([1, 2, 3, 4, 5])\n",
    "x = arr.view()\n",
    "arr[0] = 42\n",
    "\n",
    "print(arr)\n",
    "print(x)"
   ]
  },
  {
   "cell_type": "markdown",
   "id": "b2572cb5-40bf-45ae-a339-39575135b999",
   "metadata": {},
   "source": [
    "# Shape of an Array"
   ]
  },
  {
   "cell_type": "markdown",
   "id": "bc8687a7-15d3-4b22-ae9d-719c47ec1f39",
   "metadata": {},
   "source": [
    "__Bir arrayin biçimi \"shape\" ile ifade edilir.  \n",
    "Ve aynı isimdeki attribute ile shape değeri tutulmaktadır.  \n",
    "Shape ; herbir boyuttaki eleman sayısı demektir.__  \n",
    "  \n",
    "__Örnekler :__"
   ]
  },
  {
   "cell_type": "code",
   "execution_count": 79,
   "id": "dc1e6f7f-216e-4a2a-a587-2da27cd7ad2b",
   "metadata": {},
   "outputs": [
    {
     "name": "stdout",
     "output_type": "stream",
     "text": [
      "(2, 4)\n"
     ]
    }
   ],
   "source": [
    "import numpy as np\n",
    "\n",
    "arr = np.array([[1, 2, 3, 4], [5, 6, 7, 8]])\n",
    "\n",
    "print(arr.shape)"
   ]
  },
  {
   "cell_type": "code",
   "execution_count": 84,
   "id": "983e29b4-6fd6-4dd6-a0fa-5cf9acc2e64f",
   "metadata": {},
   "outputs": [
    {
     "name": "stdout",
     "output_type": "stream",
     "text": [
      "(2, 2, 3)\n"
     ]
    }
   ],
   "source": [
    "new_arr = np.array([[[1, 2, 3], [4, 5, 6]], [[7, 8, 9], [10, 11, 12]]])\n",
    "print(new_arr.shape)"
   ]
  },
  {
   "cell_type": "markdown",
   "id": "b411985c-eaf0-4c14-add8-c0d31a8c41af",
   "metadata": {},
   "source": [
    "# NumPy Array Reshaping | Arraylerde Reshape İşlemi (Yeniden Biçimlendirme)"
   ]
  },
  {
   "cell_type": "markdown",
   "id": "1b37da7b-d180-440b-b1b3-27536f8508a7",
   "metadata": {},
   "source": [
    "__Reshaping-Reshape İşlemi ; bir arrayin biçimini(shape) değiştirir.  \n",
    "Bir arrayin biçimi(shape) ise ; herbir boyuttaki elemanların sayısıdır.  \n",
    "Reshape işlemi :  \n",
    "        -Boyut ekleme  \n",
    "        -Boyut azaltma  \n",
    "        -Herbir boyuttaki elemanların sayısını değiştirme  \n",
    "        yöntemleriyle yapılabilir.__\n",
    "        "
   ]
  },
  {
   "cell_type": "markdown",
   "id": "4968b8d8-cf4a-440f-a07d-a5408b0e871c",
   "metadata": {},
   "source": [
    "__Bu işlem reshape() methodu kullanılarak yapılır.__"
   ]
  },
  {
   "cell_type": "markdown",
   "id": "39a7b184-0063-4543-8b0d-fbf1a49afd4c",
   "metadata": {},
   "source": [
    "__Örnekler :__"
   ]
  },
  {
   "cell_type": "markdown",
   "id": "a7dfc9fc-0717-483a-8e6e-19e9cf9f4fb7",
   "metadata": {},
   "source": [
    "__1-D Array'den 2-D array'e Dönüştürme Örneği :__"
   ]
  },
  {
   "cell_type": "code",
   "execution_count": 90,
   "id": "86643b6b-6572-4768-bc45-2b20a836b3ae",
   "metadata": {},
   "outputs": [
    {
     "name": "stdout",
     "output_type": "stream",
     "text": [
      "[ 1  2  3  4  5  6  7  8  9 10 11 12] \n",
      "\n",
      "[[ 1  2  3]\n",
      " [ 4  5  6]\n",
      " [ 7  8  9]\n",
      " [10 11 12]]\n"
     ]
    }
   ],
   "source": [
    "import numpy as np\n",
    "\n",
    "arr = np.array([1, 2, 3, 4, 5, 6, 7, 8, 9, 10, 11, 12])\n",
    "\n",
    "new_arr = arr.reshape(4, 3)\n",
    "\n",
    "print(arr, '\\n')\n",
    "print(new_arr)"
   ]
  },
  {
   "cell_type": "code",
   "execution_count": 96,
   "id": "0dc4f446-8811-497f-b02a-4471daba4502",
   "metadata": {},
   "outputs": [
    {
     "name": "stdout",
     "output_type": "stream",
     "text": [
      "1\n",
      "2\n"
     ]
    }
   ],
   "source": [
    "print(arr.ndim)     #ndim attribute ile array'in boyut sayısını buluyoruz.\n",
    "print(new_arr.ndim)"
   ]
  },
  {
   "cell_type": "markdown",
   "id": "d7bddc30-c5f4-40e1-ab21-9623d231ca4a",
   "metadata": {},
   "source": [
    "****\n",
    "__1-D Array'den 3-D array'e Dönüştürme Örneği :__"
   ]
  },
  {
   "cell_type": "code",
   "execution_count": 98,
   "id": "dd7f8b43-c889-41c3-b336-afe965d68110",
   "metadata": {},
   "outputs": [
    {
     "name": "stdout",
     "output_type": "stream",
     "text": [
      "[ 1  2  3  4  5  6  7  8  9 10 11 12] \n",
      "\n",
      "[[[ 1  2]\n",
      "  [ 3  4]\n",
      "  [ 5  6]]\n",
      "\n",
      " [[ 7  8]\n",
      "  [ 9 10]\n",
      "  [11 12]]]\n"
     ]
    }
   ],
   "source": [
    "import numpy as np\n",
    "\n",
    "arr = np.array([1, 2, 3, 4, 5, 6, 7, 8, 9, 10, 11, 12])\n",
    "\n",
    "new_arr = arr.reshape(2, 3, 2)\n",
    "\n",
    "print(arr, '\\n')\n",
    "print(new_arr)"
   ]
  },
  {
   "cell_type": "code",
   "execution_count": 99,
   "id": "1e0d3e7f-f903-4eec-a02f-4922cf4681ac",
   "metadata": {},
   "outputs": [
    {
     "name": "stdout",
     "output_type": "stream",
     "text": [
      "1\n",
      "3\n"
     ]
    }
   ],
   "source": [
    "print(arr.ndim)     #ndim attribute ile array'in boyut sayısını buluyoruz.\n",
    "print(new_arr.ndim)"
   ]
  },
  {
   "cell_type": "markdown",
   "id": "be3af559-933b-46bc-8599-b911a8527add",
   "metadata": {},
   "source": [
    "****\n",
    "__Bilinmeyen Boyut :__"
   ]
  },
  {
   "cell_type": "markdown",
   "id": "4b47465c-307a-44c3-a203-2b2e9db0245d",
   "metadata": {},
   "source": [
    "__Reshape işlemi yaparke, 1 tane bilinmeyen boyuta sahip olmanıza izin verilir.  \n",
    "Yani 3-D array'e dönüşüm yapacaksanız 1 bilinmeyen boyut girişi yapabilirsiniz.  \n",
    "Bu durumda bilinmeyen boyut için değer olarak -1 girilir, bu boyutu  \n",
    "NumPy sizin yerinize hesaplayacaktır.__"
   ]
  },
  {
   "cell_type": "code",
   "execution_count": 104,
   "id": "054e6d50-b6a8-4c26-a230-3489c0237bb3",
   "metadata": {},
   "outputs": [
    {
     "name": "stdout",
     "output_type": "stream",
     "text": [
      "[[[1 2]\n",
      "  [3 4]]\n",
      "\n",
      " [[5 6]\n",
      "  [7 8]]]\n"
     ]
    }
   ],
   "source": [
    "import numpy as np\n",
    "\n",
    "arr = np.array([1, 2, 3, 4, 5, 6, 7, 8])\n",
    "\n",
    "newarr = arr.reshape(2, 2, -1)\n",
    "\n",
    "print(newarr)"
   ]
  },
  {
   "cell_type": "code",
   "execution_count": 105,
   "id": "f47d57b3-6a1d-4df3-be5d-dffea5cdd17c",
   "metadata": {},
   "outputs": [
    {
     "name": "stdout",
     "output_type": "stream",
     "text": [
      "1\n",
      "3\n"
     ]
    }
   ],
   "source": [
    "print(arr.ndim)\n",
    "print(new_arr.ndim)"
   ]
  },
  {
   "cell_type": "markdown",
   "id": "bbd683e7-1a5e-4bdc-8274-f3165d247d13",
   "metadata": {},
   "source": [
    "****\n",
    "__2-D arrayden 3-D array e reshape örneği:__"
   ]
  },
  {
   "cell_type": "code",
   "execution_count": 111,
   "id": "dbb6e28d-cb73-4445-aa53-50e520053f17",
   "metadata": {},
   "outputs": [
    {
     "name": "stdout",
     "output_type": "stream",
     "text": [
      "[[[1 2]\n",
      "  [3 4]]\n",
      "\n",
      " [[5 6]\n",
      "  [7 8]]]\n"
     ]
    }
   ],
   "source": [
    "arr = np.array([[1, 2, 3, 4], [5, 6, 7, 8]])\n",
    "newarr = arr.reshape(2, 2, -1)\n",
    "print(newarr)"
   ]
  },
  {
   "cell_type": "markdown",
   "id": "c2c07fcb-16df-46ba-a002-3b8ffceca419",
   "metadata": {},
   "source": [
    "****\n",
    "## resize( ) Methodu ile Shape Değiştirme"
   ]
  },
  {
   "cell_type": "markdown",
   "id": "2cc20aad-c4de-4f51-8f8a-f458704c8c24",
   "metadata": {},
   "source": [
    "__resize methodu; reshape gibi array'in shape'ini değiştirmede kullanılır.    \n",
    "Ancak reshape'ten farklı olarak ;    \n",
    "Eğer yeni array, orjinal array'den daha büyükse, yeni array orjinal array'in    \n",
    "kopyalarıyla doldurulur. Yani yeni array'in data sayısı farklı olur, data içeriği değişmiş olur.  \n",
    "Böylece istenilen shape yeni array'e kazandırılmış olur.__"
   ]
  },
  {
   "cell_type": "code",
   "execution_count": 376,
   "id": "1bee5b59-63a4-4454-ab90-57a180b153c0",
   "metadata": {},
   "outputs": [
    {
     "name": "stdout",
     "output_type": "stream",
     "text": [
      "[[0 1]\n",
      " [2 3]]\n"
     ]
    }
   ],
   "source": [
    "orgin_array = np.array([[0,1],[2,3]])\n",
    "\n",
    "print(orgin_array)"
   ]
  },
  {
   "cell_type": "code",
   "execution_count": 378,
   "id": "a8d4e729-ec48-4c72-9907-6e27da1b91e4",
   "metadata": {},
   "outputs": [
    {
     "name": "stdout",
     "output_type": "stream",
     "text": [
      "[[0 1 2]\n",
      " [3 0 1]]\n"
     ]
    }
   ],
   "source": [
    "\n",
    "new_array = np.resize(orgin_array,(2,3))\n",
    "\n",
    "print(new_array)"
   ]
  },
  {
   "cell_type": "code",
   "execution_count": 379,
   "id": "bd014486-87c9-4155-a715-65524cec3f5d",
   "metadata": {},
   "outputs": [
    {
     "name": "stdout",
     "output_type": "stream",
     "text": [
      "[[1 2]\n",
      " [3 4]]\n"
     ]
    }
   ],
   "source": [
    "\n",
    "orgin_array = np.array([[1,2],[3,4]])\n",
    "\n",
    "print(orgin_array)"
   ]
  },
  {
   "cell_type": "code",
   "execution_count": 385,
   "id": "334b7195-d7ca-404d-b3f4-5c1882577b9e",
   "metadata": {},
   "outputs": [
    {
     "name": "stdout",
     "output_type": "stream",
     "text": [
      "[[1 2 3]\n",
      " [4 1 2]]\n"
     ]
    }
   ],
   "source": [
    "new_array = np.resize(orgin_array,(2,3))\n",
    "\n",
    "print(new_array)"
   ]
  },
  {
   "cell_type": "code",
   "execution_count": 386,
   "id": "6da23980-b949-4a7c-b510-8340c9eda53d",
   "metadata": {},
   "outputs": [
    {
     "data": {
      "text/plain": [
       "array([[1, 2, 3, 4]])"
      ]
     },
     "execution_count": 386,
     "metadata": {},
     "output_type": "execute_result"
    }
   ],
   "source": [
    "np.resize(orgin_array,(1,4))"
   ]
  },
  {
   "cell_type": "code",
   "execution_count": 387,
   "id": "ab1517b5-5ca0-4933-881d-4c8ee221f27b",
   "metadata": {},
   "outputs": [
    {
     "data": {
      "text/plain": [
       "array([[1, 2, 3, 4]])"
      ]
     },
     "execution_count": 387,
     "metadata": {},
     "output_type": "execute_result"
    }
   ],
   "source": [
    "np.reshape(orgin_array,(1,4))"
   ]
  },
  {
   "cell_type": "code",
   "execution_count": 388,
   "id": "f005fb1f-d866-4880-a303-5c9aed89f310",
   "metadata": {},
   "outputs": [
    {
     "data": {
      "text/plain": [
       "array([[1, 2, 3, 4],\n",
       "       [1, 2, 3, 4]])"
      ]
     },
     "execution_count": 388,
     "metadata": {},
     "output_type": "execute_result"
    }
   ],
   "source": [
    "np.resize(orgin_array,(2,4))"
   ]
  },
  {
   "cell_type": "code",
   "execution_count": 390,
   "id": "40d41478-b26e-4229-a2b6-caefd92bba66",
   "metadata": {},
   "outputs": [
    {
     "ename": "ValueError",
     "evalue": "cannot reshape array of size 4 into shape (2,4)",
     "output_type": "error",
     "traceback": [
      "\u001b[1;31m---------------------------------------------------------------------------\u001b[0m",
      "\u001b[1;31mValueError\u001b[0m                                Traceback (most recent call last)",
      "Cell \u001b[1;32mIn [390], line 2\u001b[0m\n\u001b[0;32m      1\u001b[0m np\u001b[38;5;241m.\u001b[39mreshape(orgin_array,(\u001b[38;5;241m1\u001b[39m,\u001b[38;5;241m4\u001b[39m))\n\u001b[1;32m----> 2\u001b[0m \u001b[43mnp\u001b[49m\u001b[38;5;241;43m.\u001b[39;49m\u001b[43mreshape\u001b[49m\u001b[43m(\u001b[49m\u001b[43morgin_array\u001b[49m\u001b[43m,\u001b[49m\u001b[43m(\u001b[49m\u001b[38;5;241;43m2\u001b[39;49m\u001b[43m,\u001b[49m\u001b[38;5;241;43m4\u001b[39;49m\u001b[43m)\u001b[49m\u001b[43m)\u001b[49m \u001b[38;5;66;03m# reshape verilen shape'e göre data sayısını \u001b[39;00m\n\u001b[0;32m      3\u001b[0m                               \u001b[38;5;66;03m# artırma gibi bişey yapmaz. Orjinal data sayısı\u001b[39;00m\n\u001b[0;32m      4\u001b[0m                               \u001b[38;5;66;03m# istenilen shape ile uyumlu değilse hata alırız.\u001b[39;00m\n",
      "File \u001b[1;32m<__array_function__ internals>:180\u001b[0m, in \u001b[0;36mreshape\u001b[1;34m(*args, **kwargs)\u001b[0m\n",
      "File \u001b[1;32m~\\AppData\\Local\\Programs\\Python\\Python310\\lib\\site-packages\\numpy\\core\\fromnumeric.py:298\u001b[0m, in \u001b[0;36mreshape\u001b[1;34m(a, newshape, order)\u001b[0m\n\u001b[0;32m    198\u001b[0m \u001b[38;5;129m@array_function_dispatch\u001b[39m(_reshape_dispatcher)\n\u001b[0;32m    199\u001b[0m \u001b[38;5;28;01mdef\u001b[39;00m \u001b[38;5;21mreshape\u001b[39m(a, newshape, order\u001b[38;5;241m=\u001b[39m\u001b[38;5;124m'\u001b[39m\u001b[38;5;124mC\u001b[39m\u001b[38;5;124m'\u001b[39m):\n\u001b[0;32m    200\u001b[0m     \u001b[38;5;124;03m\"\"\"\u001b[39;00m\n\u001b[0;32m    201\u001b[0m \u001b[38;5;124;03m    Gives a new shape to an array without changing its data.\u001b[39;00m\n\u001b[0;32m    202\u001b[0m \n\u001b[1;32m   (...)\u001b[0m\n\u001b[0;32m    296\u001b[0m \u001b[38;5;124;03m           [5, 6]])\u001b[39;00m\n\u001b[0;32m    297\u001b[0m \u001b[38;5;124;03m    \"\"\"\u001b[39;00m\n\u001b[1;32m--> 298\u001b[0m     \u001b[38;5;28;01mreturn\u001b[39;00m \u001b[43m_wrapfunc\u001b[49m\u001b[43m(\u001b[49m\u001b[43ma\u001b[49m\u001b[43m,\u001b[49m\u001b[43m \u001b[49m\u001b[38;5;124;43m'\u001b[39;49m\u001b[38;5;124;43mreshape\u001b[39;49m\u001b[38;5;124;43m'\u001b[39;49m\u001b[43m,\u001b[49m\u001b[43m \u001b[49m\u001b[43mnewshape\u001b[49m\u001b[43m,\u001b[49m\u001b[43m \u001b[49m\u001b[43morder\u001b[49m\u001b[38;5;241;43m=\u001b[39;49m\u001b[43morder\u001b[49m\u001b[43m)\u001b[49m\n",
      "File \u001b[1;32m~\\AppData\\Local\\Programs\\Python\\Python310\\lib\\site-packages\\numpy\\core\\fromnumeric.py:57\u001b[0m, in \u001b[0;36m_wrapfunc\u001b[1;34m(obj, method, *args, **kwds)\u001b[0m\n\u001b[0;32m     54\u001b[0m     \u001b[38;5;28;01mreturn\u001b[39;00m _wrapit(obj, method, \u001b[38;5;241m*\u001b[39margs, \u001b[38;5;241m*\u001b[39m\u001b[38;5;241m*\u001b[39mkwds)\n\u001b[0;32m     56\u001b[0m \u001b[38;5;28;01mtry\u001b[39;00m:\n\u001b[1;32m---> 57\u001b[0m     \u001b[38;5;28;01mreturn\u001b[39;00m bound(\u001b[38;5;241m*\u001b[39margs, \u001b[38;5;241m*\u001b[39m\u001b[38;5;241m*\u001b[39mkwds)\n\u001b[0;32m     58\u001b[0m \u001b[38;5;28;01mexcept\u001b[39;00m \u001b[38;5;167;01mTypeError\u001b[39;00m:\n\u001b[0;32m     59\u001b[0m     \u001b[38;5;66;03m# A TypeError occurs if the object does have such a method in its\u001b[39;00m\n\u001b[0;32m     60\u001b[0m     \u001b[38;5;66;03m# class, but its signature is not identical to that of NumPy's. This\u001b[39;00m\n\u001b[1;32m   (...)\u001b[0m\n\u001b[0;32m     64\u001b[0m     \u001b[38;5;66;03m# Call _wrapit from within the except clause to ensure a potential\u001b[39;00m\n\u001b[0;32m     65\u001b[0m     \u001b[38;5;66;03m# exception has a traceback chain.\u001b[39;00m\n\u001b[0;32m     66\u001b[0m     \u001b[38;5;28;01mreturn\u001b[39;00m _wrapit(obj, method, \u001b[38;5;241m*\u001b[39margs, \u001b[38;5;241m*\u001b[39m\u001b[38;5;241m*\u001b[39mkwds)\n",
      "\u001b[1;31mValueError\u001b[0m: cannot reshape array of size 4 into shape (2,4)"
     ]
    }
   ],
   "source": [
    "np.reshape(orgin_array,(1,4))\n",
    "np.reshape(orgin_array,(2,4)) # reshape verilen shape'e göre data sayısını \n",
    "                              # artırma gibi bişey yapmaz. Orjinal data sayısı\n",
    "                              # istenilen shape ile uyumlu değilse hata alırız."
   ]
  },
  {
   "cell_type": "code",
   "execution_count": null,
   "id": "8589d695-26bf-4035-bb03-3dfe145a156d",
   "metadata": {},
   "outputs": [],
   "source": []
  },
  {
   "cell_type": "code",
   "execution_count": null,
   "id": "7c2f8e93-9964-4e8b-8bcc-3465e08d8dc0",
   "metadata": {},
   "outputs": [],
   "source": []
  },
  {
   "cell_type": "markdown",
   "id": "ff7222a5-38e3-4b1c-9740-0741f6a40f08",
   "metadata": {},
   "source": [
    "## Flattening the Arrays | Çok-boyutlu Array'i Tek-boyutlu Array'e Dönüştürme"
   ]
  },
  {
   "cell_type": "markdown",
   "id": "e750bb9e-4b99-4fdb-885f-881119f00c16",
   "metadata": {},
   "source": [
    "__Bu işlemi ;  \n",
    "reshape( -1 )\n",
    "ile yapabiliriz.__"
   ]
  },
  {
   "cell_type": "code",
   "execution_count": 112,
   "id": "ecfb9ec6-4666-4918-95f9-42079a0f9947",
   "metadata": {},
   "outputs": [
    {
     "name": "stdout",
     "output_type": "stream",
     "text": [
      "[1 2 3 4 5 6]\n"
     ]
    }
   ],
   "source": [
    "import numpy as np\n",
    "\n",
    "arr = np.array([[1, 2, 3], [4, 5, 6]])\n",
    "\n",
    "newarr = arr.reshape(-1)\n",
    "\n",
    "print(newarr)"
   ]
  },
  {
   "cell_type": "markdown",
   "id": "f998dfc0-4551-4161-b493-d35481fbff8c",
   "metadata": {},
   "source": [
    "### flatten( ) methodu ile"
   ]
  },
  {
   "cell_type": "markdown",
   "id": "4c8c5e0e-d331-4cba-8b9c-ddcf42ac5e7b",
   "metadata": {},
   "source": [
    "__Çok-boyutlu array'i tek-boyutlu array'e dönüştürmek için  \n",
    "flatten() methodu da kullanılabilir.  \n",
    "\"order\" parametresi ile sütun tabanlı(column-major) olarak da yapılabilir. \n",
    "Bunun için order = 'F' yapılır.  \n",
    "\"order\" parametresinin default değeri satır temelli(row-major) olarak 'C' dir.__"
   ]
  },
  {
   "cell_type": "code",
   "execution_count": 354,
   "id": "4e6dbffd-bd7a-452f-9446-37018fecc484",
   "metadata": {},
   "outputs": [
    {
     "name": "stdout",
     "output_type": "stream",
     "text": [
      "[[1 2]\n",
      " [3 4]]\n"
     ]
    }
   ],
   "source": [
    "a = np.array([[1,2], [3,4]])\n",
    "\n",
    "print(a)\n"
   ]
  },
  {
   "cell_type": "code",
   "execution_count": 358,
   "id": "e42ecd4c-d570-4c26-a6b1-48686a540097",
   "metadata": {
    "tags": []
   },
   "outputs": [
    {
     "name": "stdout",
     "output_type": "stream",
     "text": [
      "[1 2 3 4]\n"
     ]
    }
   ],
   "source": [
    "flatten_array = a.flatten()  # order değeri default olarak row-major olduğu için\n",
    "                             # satır satır okuyacak ve tek boyutta düzleştirecek. \n",
    "print(flatten_array)"
   ]
  },
  {
   "cell_type": "code",
   "execution_count": 359,
   "id": "b37adaee-d5a6-457b-a2dc-fddf5e27aa74",
   "metadata": {},
   "outputs": [
    {
     "name": "stdout",
     "output_type": "stream",
     "text": [
      "[1 3 2 4]\n"
     ]
    }
   ],
   "source": [
    "\n",
    "flatten_array = a.flatten(order='F')  # order değeri column-major girildiği için\n",
    "                                      # sütun sütun okuyacak ve tek boyutta düzleştirecek. \n",
    "print(flatten_array)"
   ]
  },
  {
   "cell_type": "code",
   "execution_count": 360,
   "id": "0173a253-1d20-4529-ab34-2924417d3a04",
   "metadata": {},
   "outputs": [
    {
     "name": "stdout",
     "output_type": "stream",
     "text": [
      "[[1 2]\n",
      " [3 4]\n",
      " [5 6]]\n"
     ]
    }
   ],
   "source": [
    "\n",
    "# Yeni Örnek :\n",
    "    \n",
    "b = np.array([[1,2], [3,4], [5,6]])\n",
    "print(b)\n"
   ]
  },
  {
   "cell_type": "code",
   "execution_count": 361,
   "id": "8aebaf5a-d023-431c-8807-8a6944d477c5",
   "metadata": {},
   "outputs": [
    {
     "name": "stdout",
     "output_type": "stream",
     "text": [
      "[1 2 3 4 5 6]\n"
     ]
    }
   ],
   "source": [
    "flatten_array = b.flatten()  # order değeri default olarak row-major olduğu için\n",
    "                             # satır satır okuyacak ve tek boyutta düzleştirecek. \n",
    "print(flatten_array)"
   ]
  },
  {
   "cell_type": "code",
   "execution_count": 363,
   "id": "acbef2f8-32e0-4bfc-8632-be90b44ee48b",
   "metadata": {},
   "outputs": [
    {
     "name": "stdout",
     "output_type": "stream",
     "text": [
      "[1 3 5 2 4 6]\n"
     ]
    }
   ],
   "source": [
    "\n",
    "flatten_array = b.flatten(order='F')  # order değeri column-major girildiği için\n",
    "                                      # sütun sütun okuyacak ve tek boyutta düzleştirecek. \n",
    "print(flatten_array)"
   ]
  },
  {
   "cell_type": "markdown",
   "id": "616ed7f6-5739-4078-8ee8-b0ce9dad2ebe",
   "metadata": {},
   "source": [
    "****\n",
    "## flat Attribute ile Arraylerde Eleman Okuma"
   ]
  },
  {
   "cell_type": "markdown",
   "id": "007638ee-5859-4d69-9c67-17f2924466e9",
   "metadata": {},
   "source": [
    "__flat attribute ; çok-boyutlu arraylerde tek boyutluymuş gibi indexleme  \n",
    "yaparak eleman okumayı sağlar.__\n"
   ]
  },
  {
   "cell_type": "code",
   "execution_count": 365,
   "id": "2ac2285a-27e0-4894-bf62-b110f42ff801",
   "metadata": {},
   "outputs": [
    {
     "name": "stdout",
     "output_type": "stream",
     "text": [
      "[[1 2 3]\n",
      " [4 5 6]]\n"
     ]
    }
   ],
   "source": [
    "x = np.arange(1, 7).reshape(2, 3)\n",
    "\n",
    "print(x)"
   ]
  },
  {
   "cell_type": "code",
   "execution_count": 366,
   "id": "d6a21999-4cd3-4a6c-934f-89e403c5f448",
   "metadata": {},
   "outputs": [
    {
     "name": "stdout",
     "output_type": "stream",
     "text": [
      "4\n"
     ]
    }
   ],
   "source": [
    "# Bu arrayde 4 değerine ulaşmak (normalde) ;\n",
    "\n",
    "print( x[1,0] )\n"
   ]
  },
  {
   "cell_type": "code",
   "execution_count": 367,
   "id": "fc0afd67-73ee-4b85-8183-14ec005d93d6",
   "metadata": {},
   "outputs": [
    {
     "data": {
      "text/plain": [
       "4"
      ]
     },
     "execution_count": 367,
     "metadata": {},
     "output_type": "execute_result"
    }
   ],
   "source": [
    "# flatten ile ulaşırken ise ;\n",
    "\n",
    "x.flat[3]    # arrayi tek boyutlu düşünürsek [1,2,3,4,5,6] da \n",
    "             # ulaşmak istenilen '4' değerinin index num. 3 olur."
   ]
  },
  {
   "cell_type": "code",
   "execution_count": null,
   "id": "2e462d09-b981-47f8-95e6-a558acec31d6",
   "metadata": {},
   "outputs": [],
   "source": []
  },
  {
   "cell_type": "code",
   "execution_count": null,
   "id": "53371b8a-3169-4ed3-8bcd-4b004e93de3e",
   "metadata": {},
   "outputs": [],
   "source": []
  },
  {
   "cell_type": "markdown",
   "id": "c673bf0f-629d-4c95-a788-b8447d100956",
   "metadata": {},
   "source": [
    "****"
   ]
  },
  {
   "cell_type": "markdown",
   "id": "89ec1e4a-776c-45ff-a58d-3c59ecda23ff",
   "metadata": {},
   "source": [
    "# NumPy Array Iterating | Array'leri Döngülerde Kullanmak"
   ]
  },
  {
   "cell_type": "code",
   "execution_count": 129,
   "id": "85a0d861-be8a-42ff-91b6-756a97c71e6e",
   "metadata": {},
   "outputs": [
    {
     "name": "stdout",
     "output_type": "stream",
     "text": [
      "1\n",
      "2\n",
      "3\n"
     ]
    }
   ],
   "source": [
    "import numpy as np\n",
    "\n",
    "arr = np.array([1, 2, 3])\n",
    "\n",
    "for x in arr:\n",
    "    print(x)"
   ]
  },
  {
   "cell_type": "code",
   "execution_count": 115,
   "id": "0830df4e-9274-4594-8337-cce3fafc1ae1",
   "metadata": {},
   "outputs": [
    {
     "name": "stdout",
     "output_type": "stream",
     "text": [
      "[1 2 3]\n",
      "[4 5 6]\n"
     ]
    }
   ],
   "source": [
    "import numpy as np\n",
    "\n",
    "arr = np.array([[1, 2, 3], [4, 5, 6]])\n",
    "\n",
    "for x in arr:\n",
    "    print(x)"
   ]
  },
  {
   "cell_type": "code",
   "execution_count": 116,
   "id": "2f0fe2ff-bde0-4df8-9108-b7ed55ce7e8d",
   "metadata": {},
   "outputs": [
    {
     "name": "stdout",
     "output_type": "stream",
     "text": [
      "Döngüye 1 . kez girdi...\n",
      "[1 2 3]\n",
      "Döngüye 2 . kez girdi...\n",
      "[4 5 6]\n"
     ]
    }
   ],
   "source": [
    "import numpy as np\n",
    "\n",
    "arr = np.array([[1, 2, 3], [4, 5, 6]])\n",
    "i = 0\n",
    "for x in arr:\n",
    "    i= i+1\n",
    "    print(\"Döngüye\", i,\". kez girdi...\")\n",
    "    print(x)"
   ]
  },
  {
   "cell_type": "markdown",
   "id": "9280035d-89c2-4773-a243-de5b19c1103c",
   "metadata": {},
   "source": [
    "****"
   ]
  },
  {
   "cell_type": "code",
   "execution_count": 117,
   "id": "b6c4be29-35eb-4d9d-988f-8da0a74ae547",
   "metadata": {},
   "outputs": [
    {
     "name": "stdout",
     "output_type": "stream",
     "text": [
      "1\n",
      "2\n",
      "3\n",
      "4\n",
      "5\n",
      "6\n"
     ]
    }
   ],
   "source": [
    "import numpy as np\n",
    "\n",
    "arr = np.array([[1, 2, 3], [4, 5, 6]])\n",
    "\n",
    "for x in arr:\n",
    "    for y in x:\n",
    "        print(y)"
   ]
  },
  {
   "cell_type": "markdown",
   "id": "b9c6204a-7e21-46c5-8990-323e29d6587e",
   "metadata": {},
   "source": [
    "****"
   ]
  },
  {
   "cell_type": "code",
   "execution_count": 118,
   "id": "db839779-c44f-4bdc-8e45-dc5c26c7971e",
   "metadata": {},
   "outputs": [
    {
     "name": "stdout",
     "output_type": "stream",
     "text": [
      "1\n",
      "2\n",
      "3\n",
      "4\n",
      "5\n",
      "6\n",
      "7\n",
      "8\n",
      "9\n",
      "10\n",
      "11\n",
      "12\n"
     ]
    }
   ],
   "source": [
    "import numpy as np\n",
    "\n",
    "arr = np.array([[[1, 2, 3], [4, 5, 6]], [[7, 8, 9], [10, 11, 12]]])\n",
    "\n",
    "for x in arr:\n",
    "    for y in x:\n",
    "        for z in y:\n",
    "            print(z)"
   ]
  },
  {
   "cell_type": "markdown",
   "id": "b7d682a5-efdf-4ff1-a78d-8e9d92cbb5f4",
   "metadata": {},
   "source": [
    "****"
   ]
  },
  {
   "cell_type": "markdown",
   "id": "56792e6c-6f69-4f44-9bce-07fc7a3f9067",
   "metadata": {},
   "source": [
    "## Iterating Arrays Using nditer() | Arrayleri Döngüde nditer() Methodu ile Kullanmak"
   ]
  },
  {
   "cell_type": "markdown",
   "id": "3f2c70aa-c893-491a-abe4-e9da2eca8dee",
   "metadata": {},
   "source": [
    "__nditer() methodu sayesinde iç içe for döngüsü yapmadan doğrudan her bir skaler eleman  \n",
    "döngü elemanı olarak kullanılabilir.__ "
   ]
  },
  {
   "cell_type": "code",
   "execution_count": 120,
   "id": "fb0489fc-fc9a-4a1d-9b44-5d24beaa43a1",
   "metadata": {},
   "outputs": [
    {
     "name": "stdout",
     "output_type": "stream",
     "text": [
      "1\n",
      "2\n",
      "3\n",
      "4\n",
      "5\n",
      "6\n",
      "7\n",
      "8\n"
     ]
    }
   ],
   "source": [
    "import numpy as np\n",
    "\n",
    "arr = np.array([[[1, 2], [3, 4]], [[5, 6], [7, 8]]])\n",
    "\n",
    "for x in np.nditer(arr):\n",
    "    print(x)"
   ]
  },
  {
   "cell_type": "code",
   "execution_count": 122,
   "id": "a709c653-684d-4029-9d84-9e3c43e38887",
   "metadata": {},
   "outputs": [
    {
     "name": "stdout",
     "output_type": "stream",
     "text": [
      "1\n",
      "3\n",
      "5\n",
      "7\n"
     ]
    }
   ],
   "source": [
    "\n",
    "arr = np.array([[1, 2, 3, 4], [5, 6, 7, 8]])\n",
    "\n",
    "for x in np.nditer(arr[:, ::2]):\n",
    "    print(x)"
   ]
  },
  {
   "cell_type": "markdown",
   "id": "44263853-fb9d-4b8d-b007-6d2c8080c0c4",
   "metadata": {},
   "source": [
    "# Joining NumPy Arrays | Arrayleri Birleştirmek"
   ]
  },
  {
   "cell_type": "markdown",
   "id": "c77398b5-d0a6-43ac-819c-8f8ae4103617",
   "metadata": {},
   "source": [
    "__İki farklı arrayi birleştirme işlemidir.  \n",
    "concatenate() methodu ile yapılır.__"
   ]
  },
  {
   "cell_type": "code",
   "execution_count": 137,
   "id": "a33df0b9-d1a1-4d3d-adb2-256634704e7d",
   "metadata": {
    "tags": []
   },
   "outputs": [
    {
     "name": "stdout",
     "output_type": "stream",
     "text": [
      "[1 2 3 4 5 6]\n"
     ]
    }
   ],
   "source": [
    "import numpy as np\n",
    "\n",
    "arr1 = np.array([1, 2, 3])\n",
    "\n",
    "arr2 = np.array([4, 5, 6])\n",
    "\n",
    "arr = np.concatenate((arr1, arr2))\n",
    "\n",
    "print(arr)"
   ]
  },
  {
   "cell_type": "markdown",
   "id": "9c1a4d56-9894-444b-aa19-68ce196c16b1",
   "metadata": {},
   "source": [
    "****"
   ]
  },
  {
   "cell_type": "code",
   "execution_count": 134,
   "id": "062b7fb6-74cf-4361-8f9d-9216b09cc21c",
   "metadata": {},
   "outputs": [
    {
     "name": "stdout",
     "output_type": "stream",
     "text": [
      "[[1 2 5 6]\n",
      " [3 4 7 8]]\n"
     ]
    }
   ],
   "source": [
    "\n",
    "arr1 = np.array([[1, 2], [3, 4]])\n",
    "\n",
    "arr2 = np.array([[5, 6], [7, 8]])\n",
    "\n",
    "arr = np.concatenate((arr1, arr2), axis=1)\n",
    "\n",
    "print(arr)\n"
   ]
  },
  {
   "cell_type": "code",
   "execution_count": 135,
   "id": "5e846edd-d303-47bd-82cc-3dc93cdf4063",
   "metadata": {},
   "outputs": [
    {
     "data": {
      "text/plain": [
       "2"
      ]
     },
     "execution_count": 135,
     "metadata": {},
     "output_type": "execute_result"
    }
   ],
   "source": [
    "\n",
    "arr.ndim"
   ]
  },
  {
   "cell_type": "markdown",
   "id": "baa72ceb-7562-499c-a327-880e9e4489a6",
   "metadata": {},
   "source": [
    "__axis parametresine hiçbir değer girmezsek varsayılan değeri 0 olur.  \n",
    "axis değeri sıfırken satırlar dikey olarak birleştirilir.  \n",
    "axis değeri 1 girilirse arrayler yatay olarak birleştirilir.__\n"
   ]
  },
  {
   "cell_type": "code",
   "execution_count": 139,
   "id": "b3ac9560-c536-418e-872c-cb98ffd4ee7b",
   "metadata": {},
   "outputs": [
    {
     "name": "stdout",
     "output_type": "stream",
     "text": [
      "[[1 2]\n",
      " [3 4]\n",
      " [5 6]\n",
      " [7 8]]\n"
     ]
    }
   ],
   "source": [
    "arr1 = np.array([[1, 2], [3, 4]])\n",
    "\n",
    "arr2 = np.array([[5, 6], [7, 8]])\n",
    "\n",
    "arr = np.concatenate((arr1, arr2))   #axis değeri 0 kabul edilir.\n",
    "\n",
    "print(arr)"
   ]
  },
  {
   "cell_type": "markdown",
   "id": "940c6da7-7964-454b-a067-30ce30ba3579",
   "metadata": {},
   "source": [
    "****\n",
    "### Arrayleri Stack() Methodu ile Birleştirme"
   ]
  },
  {
   "cell_type": "markdown",
   "id": "782b7ba7-cbd8-4caa-9281-68ce6ae8de5b",
   "metadata": {},
   "source": [
    "__Stack() methodu, elemanları üst üste yığma işlemi yaparak arrayleri birleştirir.__"
   ]
  },
  {
   "cell_type": "code",
   "execution_count": 140,
   "id": "d37a696b-dfc4-4c5d-b4ad-ff430783a4e3",
   "metadata": {},
   "outputs": [
    {
     "name": "stdout",
     "output_type": "stream",
     "text": [
      "[[1 2 3]\n",
      " [4 5 6]]\n"
     ]
    }
   ],
   "source": [
    "import numpy as np\n",
    "\n",
    "arr1 = np.array([1, 2, 3])\n",
    "\n",
    "arr2 = np.array([4, 5, 6])\n",
    "\n",
    "arr = np.stack((arr1, arr2))\n",
    "\n",
    "print(arr)"
   ]
  },
  {
   "cell_type": "code",
   "execution_count": 142,
   "id": "d50710d0-7ab8-4ac4-86c0-f2c86ce18d99",
   "metadata": {},
   "outputs": [
    {
     "name": "stdout",
     "output_type": "stream",
     "text": [
      "[[1 4]\n",
      " [2 5]\n",
      " [3 6]]\n"
     ]
    }
   ],
   "source": [
    "arr1 = np.array([1, 2, 3])\n",
    "\n",
    "arr2 = np.array([4, 5, 6])\n",
    "\n",
    "arr = np.stack((arr1, arr2), axis=1)\n",
    "\n",
    "print(arr)"
   ]
  },
  {
   "cell_type": "code",
   "execution_count": 143,
   "id": "5b7e9f6f-d1c9-4fd8-a4eb-d9909b80b8de",
   "metadata": {},
   "outputs": [
    {
     "name": "stdout",
     "output_type": "stream",
     "text": [
      "[[[1 2]\n",
      "  [5 6]]\n",
      "\n",
      " [[3 4]\n",
      "  [7 8]]]\n"
     ]
    }
   ],
   "source": [
    "\n",
    "arr1 = np.array([[1, 2], [3, 4]])\n",
    "\n",
    "arr2 = np.array([[5, 6], [7, 8]])\n",
    "\n",
    "arr = np.stack((arr1, arr2), axis=1)\n",
    "\n",
    "print(arr)"
   ]
  },
  {
   "cell_type": "code",
   "execution_count": 144,
   "id": "68683c54-1c70-40b4-91aa-eeac8cfb2e5b",
   "metadata": {},
   "outputs": [
    {
     "name": "stdout",
     "output_type": "stream",
     "text": [
      "[[[1 2]\n",
      "  [3 4]]\n",
      "\n",
      " [[5 6]\n",
      "  [7 8]]]\n"
     ]
    }
   ],
   "source": [
    "arr1 = np.array([[1, 2], [3, 4]])\n",
    "\n",
    "arr2 = np.array([[5, 6], [7, 8]])\n",
    "\n",
    "arr = np.stack((arr1, arr2))\n",
    "\n",
    "print(arr)"
   ]
  },
  {
   "cell_type": "markdown",
   "id": "e2936bf4-672a-4567-9555-f90d63e45230",
   "metadata": {},
   "source": [
    "****"
   ]
  },
  {
   "cell_type": "markdown",
   "id": "d4f313a3-3be4-44d3-8a90-7adba26a484d",
   "metadata": {},
   "source": [
    "# Splitting NumPy Arrays | Arrayleri Farklı Arrayler Olarak Bölmek"
   ]
  },
  {
   "cell_type": "markdown",
   "id": "a0b272c5-8d0d-4536-88e6-b3f38eb6a302",
   "metadata": {},
   "source": [
    "__array_split() methodu ile yapılır.  \n",
    "Bir arrayi farklı arrayler olarak bölüp, bu arrayleri eleman olarak tutar.__"
   ]
  },
  {
   "cell_type": "markdown",
   "id": "c0deb2a6-bab2-4a98-a5c9-a621d33faec7",
   "metadata": {},
   "source": [
    "__Bir arrayi 3 parçaya bölelim :__"
   ]
  },
  {
   "cell_type": "code",
   "execution_count": 147,
   "id": "8e8ef382-7ff4-41b6-8010-5eb5a3d0bfbf",
   "metadata": {},
   "outputs": [
    {
     "name": "stdout",
     "output_type": "stream",
     "text": [
      "[array([1, 2]), array([3, 4]), array([5, 6])]\n"
     ]
    }
   ],
   "source": [
    "import numpy as np\n",
    "\n",
    "arr = np.array([1, 2, 3, 4, 5, 6])\n",
    "\n",
    "newarr = np.array_split(arr, 3)  # 3 parçaya böleceğimiz için parametreye 3 girdik. \n",
    "\n",
    "print(newarr)"
   ]
  },
  {
   "cell_type": "markdown",
   "id": "0a957dfc-de3f-48b4-ba64-4bd8a18b9ebf",
   "metadata": {},
   "source": [
    "__Yukarıda görüldüğü gibi split / bölme işlemi sonucu 3 array içeren bir array aldık.__ \n"
   ]
  },
  {
   "cell_type": "code",
   "execution_count": 149,
   "id": "2afca730-4f83-4cf7-a332-89407eca3eaf",
   "metadata": {},
   "outputs": [
    {
     "name": "stdout",
     "output_type": "stream",
     "text": [
      "[array([1, 2]), array([3, 4]), array([5]), array([6])]\n"
     ]
    }
   ],
   "source": [
    "\n",
    "arr = np.array([1, 2, 3, 4, 5, 6])\n",
    "\n",
    "newarr = np.array_split(arr, 4)   # 4 parçaya bölüyoruz.\n",
    "\n",
    "print(newarr)"
   ]
  },
  {
   "cell_type": "markdown",
   "id": "84de506f-fbcd-4790-a571-795a6d37ac55",
   "metadata": {},
   "source": [
    "__Dikkat :  \n",
    "    array_split() methodu yukarıdaki gibi eşit bölme için gereken eleman sayısı   \n",
    "    yetersiz olduğunda eleman sayısını bölme sayısına göre ayarlar.__"
   ]
  },
  {
   "cell_type": "markdown",
   "id": "34a388e8-e95f-4dc0-bb68-17b0e9e5765d",
   "metadata": {},
   "source": [
    "****\n",
    "__Bölme işlemi sonucu oluşan arraylere erişmek :__"
   ]
  },
  {
   "cell_type": "code",
   "execution_count": 151,
   "id": "282fe984-8f86-4f29-a9ad-6cd22276eaeb",
   "metadata": {},
   "outputs": [
    {
     "name": "stdout",
     "output_type": "stream",
     "text": [
      "[1 2]\n",
      "[3 4]\n",
      "[5 6]\n"
     ]
    }
   ],
   "source": [
    "arr = np.array([1, 2, 3, 4, 5, 6])\n",
    "\n",
    "newarr = np.array_split(arr, 3)\n",
    "\n",
    "print(newarr[0])\n",
    "print(newarr[1])\n",
    "print(newarr[2])"
   ]
  },
  {
   "cell_type": "markdown",
   "id": "d1f2aa4d-f004-4d51-8fa0-581ba1c42853",
   "metadata": {},
   "source": [
    "****\n",
    "__Çok-boyutlu arraylerde de aynı şekilde bölme işlemi yapılır :__"
   ]
  },
  {
   "cell_type": "code",
   "execution_count": 152,
   "id": "9544a404-6a8d-441a-952e-e3c3247b5e56",
   "metadata": {},
   "outputs": [
    {
     "name": "stdout",
     "output_type": "stream",
     "text": [
      "[array([[1, 2],\n",
      "       [3, 4]]), array([[5, 6],\n",
      "       [7, 8]]), array([[ 9, 10],\n",
      "       [11, 12]])]\n"
     ]
    }
   ],
   "source": [
    "arr = np.array([[1, 2], [3, 4], [5, 6], [7, 8], [9, 10], [11, 12]])\n",
    "\n",
    "newarr = np.array_split(arr, 3)\n",
    "\n",
    "print(newarr)"
   ]
  },
  {
   "cell_type": "code",
   "execution_count": 153,
   "id": "b4951279-dac9-42b4-8273-40f171b8046c",
   "metadata": {},
   "outputs": [
    {
     "name": "stdout",
     "output_type": "stream",
     "text": [
      "[[1 2]\n",
      " [3 4]]\n",
      "[[5 6]\n",
      " [7 8]]\n",
      "[[ 9 10]\n",
      " [11 12]]\n"
     ]
    }
   ],
   "source": [
    "print(newarr[0])\n",
    "print(newarr[1])\n",
    "print(newarr[2])"
   ]
  },
  {
   "cell_type": "markdown",
   "id": "9a4af4f6-63ff-41a8-9301-2ae63454d915",
   "metadata": {},
   "source": [
    "****"
   ]
  },
  {
   "cell_type": "code",
   "execution_count": null,
   "id": "a8330e32-37a6-4fc3-9851-64d467c23668",
   "metadata": {},
   "outputs": [],
   "source": []
  },
  {
   "cell_type": "markdown",
   "id": "647e0570-3cd8-4fc6-89b5-52b46cda4a5e",
   "metadata": {},
   "source": [
    "![green-divider](https://user-images.githubusercontent.com/7065401/52071924-c003ad80-2562-11e9-8297-1c6595f8a7ff.png)\n",
    "\n",
    "## Boolean arrays\n",
    "_(Also called masks)_"
   ]
  },
  {
   "cell_type": "code",
   "execution_count": 82,
   "id": "8408a754-891c-4d76-a555-cf83570dc0bd",
   "metadata": {},
   "outputs": [],
   "source": [
    "a = np.arange(4)"
   ]
  },
  {
   "cell_type": "code",
   "execution_count": 83,
   "id": "7af7c35f-2f6b-4bda-b40e-b0b30dd774af",
   "metadata": {},
   "outputs": [
    {
     "data": {
      "text/plain": [
       "array([0, 1, 2, 3])"
      ]
     },
     "execution_count": 83,
     "metadata": {},
     "output_type": "execute_result"
    }
   ],
   "source": [
    "a"
   ]
  },
  {
   "cell_type": "code",
   "execution_count": 85,
   "id": "5e9b7e14-00f2-448d-946a-2ed7ee8f86b6",
   "metadata": {},
   "outputs": [
    {
     "data": {
      "text/plain": [
       "(0, 3)"
      ]
     },
     "execution_count": 85,
     "metadata": {},
     "output_type": "execute_result"
    }
   ],
   "source": [
    "a[0], a[-1]"
   ]
  },
  {
   "cell_type": "code",
   "execution_count": 84,
   "id": "a6f4ff8f-22e4-49f8-9338-99e8c34cb3c7",
   "metadata": {},
   "outputs": [
    {
     "data": {
      "text/plain": [
       "array([0, 3])"
      ]
     },
     "execution_count": 84,
     "metadata": {},
     "output_type": "execute_result"
    }
   ],
   "source": [
    "a[[0, -1]]"
   ]
  },
  {
   "cell_type": "code",
   "execution_count": 86,
   "id": "9ce96bf1-0718-4f2e-9494-088627853dcb",
   "metadata": {},
   "outputs": [
    {
     "data": {
      "text/plain": [
       "array([0, 3])"
      ]
     },
     "execution_count": 86,
     "metadata": {},
     "output_type": "execute_result"
    }
   ],
   "source": [
    "a[[True, False, False, True]]"
   ]
  },
  {
   "cell_type": "code",
   "execution_count": 89,
   "id": "1f3ea6ef-93e8-49ab-9d0f-74bdf9684f88",
   "metadata": {},
   "outputs": [
    {
     "data": {
      "text/plain": [
       "array([0, 1, 2, 3])"
      ]
     },
     "execution_count": 89,
     "metadata": {},
     "output_type": "execute_result"
    }
   ],
   "source": [
    "a"
   ]
  },
  {
   "cell_type": "code",
   "execution_count": 88,
   "id": "02b4ce22-5093-46ce-ba73-e06c180ed797",
   "metadata": {},
   "outputs": [
    {
     "data": {
      "text/plain": [
       "array([False, False,  True,  True])"
      ]
     },
     "execution_count": 88,
     "metadata": {},
     "output_type": "execute_result"
    }
   ],
   "source": [
    "a >= 2"
   ]
  },
  {
   "cell_type": "code",
   "execution_count": 90,
   "id": "d037436c-793d-42c7-8ca8-fb530721ba56",
   "metadata": {},
   "outputs": [
    {
     "data": {
      "text/plain": [
       "array([2, 3])"
      ]
     },
     "execution_count": 90,
     "metadata": {},
     "output_type": "execute_result"
    }
   ],
   "source": [
    "a[a >= 2]"
   ]
  }
 ],
 "metadata": {
  "kernelspec": {
   "display_name": "Python 3 (ipykernel)",
   "language": "python",
   "name": "python3"
  },
  "language_info": {
   "codemirror_mode": {
    "name": "ipython",
    "version": 3
   },
   "file_extension": ".py",
   "mimetype": "text/x-python",
   "name": "python",
   "nbconvert_exporter": "python",
   "pygments_lexer": "ipython3",
   "version": "3.11.0"
  }
 },
 "nbformat": 4,
 "nbformat_minor": 5
}
